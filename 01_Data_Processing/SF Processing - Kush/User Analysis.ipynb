{
 "cells": [
  {
   "cell_type": "code",
   "execution_count": 1,
   "metadata": {},
   "outputs": [],
   "source": [
    "import pandas as pd\n",
    "import numpy as np\n",
    "import matplotlib.pyplot as plt\n",
    "%matplotlib inline"
   ]
  },
  {
   "cell_type": "code",
   "execution_count": 25,
   "metadata": {},
   "outputs": [],
   "source": [
    "def stats(arr):\n",
    "    print(\"Mean: \" , np.mean(arr))\n",
    "    print(\"Median: \", np.median(arr))\n",
    "    print(\"Std Dev:\" , np.std(arr))\n",
    "    print(\"Max: \" , max(arr))\n",
    "    print(\"Min: \" , min(arr))"
   ]
  },
  {
   "cell_type": "code",
   "execution_count": 3,
   "metadata": {},
   "outputs": [
    {
     "name": "stdout",
     "output_type": "stream",
     "text": [
      "CPU times: user 3min 18s, sys: 28.1 s, total: 3min 46s\n",
      "Wall time: 3min 48s\n"
     ]
    }
   ],
   "source": [
    "%%time\n",
    "sf_data = pd.read_csv(\"/scratch/public/kushk/sf_with_homeloc.csv\")\n",
    "sf_data = sf_data[~sf_data[\"home_tract\"].isna()]\n",
    "sf_data = sf_data[~sf_data[\"tract\"].isna()]"
   ]
  },
  {
   "cell_type": "markdown",
   "metadata": {},
   "source": [
    "## Group tweets by UserId/Tract combo count"
   ]
  },
  {
   "cell_type": "code",
   "execution_count": 4,
   "metadata": {},
   "outputs": [],
   "source": [
    "users = sf_data.groupby([\"u_id\" , \"tract\"]).size().reset_index().rename(columns={0:'count'})"
   ]
  },
  {
   "cell_type": "code",
   "execution_count": 31,
   "metadata": {},
   "outputs": [
    {
     "data": {
      "text/html": [
       "<div>\n",
       "<style scoped>\n",
       "    .dataframe tbody tr th:only-of-type {\n",
       "        vertical-align: middle;\n",
       "    }\n",
       "\n",
       "    .dataframe tbody tr th {\n",
       "        vertical-align: top;\n",
       "    }\n",
       "\n",
       "    .dataframe thead th {\n",
       "        text-align: right;\n",
       "    }\n",
       "</style>\n",
       "<table border=\"1\" class=\"dataframe\">\n",
       "  <thead>\n",
       "    <tr style=\"text-align: right;\">\n",
       "      <th></th>\n",
       "      <th>u_id</th>\n",
       "      <th>tract</th>\n",
       "      <th>count</th>\n",
       "    </tr>\n",
       "  </thead>\n",
       "  <tbody>\n",
       "    <tr>\n",
       "      <th>0</th>\n",
       "      <td>1.112537e-308</td>\n",
       "      <td>6.001401e+09</td>\n",
       "      <td>1</td>\n",
       "    </tr>\n",
       "    <tr>\n",
       "      <th>1</th>\n",
       "      <td>1.112537e-308</td>\n",
       "      <td>6.001402e+09</td>\n",
       "      <td>1</td>\n",
       "    </tr>\n",
       "    <tr>\n",
       "      <th>2</th>\n",
       "      <td>1.112537e-308</td>\n",
       "      <td>6.013349e+09</td>\n",
       "      <td>1</td>\n",
       "    </tr>\n",
       "    <tr>\n",
       "      <th>3</th>\n",
       "      <td>1.112537e-308</td>\n",
       "      <td>6.041121e+09</td>\n",
       "      <td>1</td>\n",
       "    </tr>\n",
       "    <tr>\n",
       "      <th>4</th>\n",
       "      <td>1.112537e-308</td>\n",
       "      <td>6.041124e+09</td>\n",
       "      <td>2</td>\n",
       "    </tr>\n",
       "  </tbody>\n",
       "</table>\n",
       "</div>"
      ],
      "text/plain": [
       "            u_id         tract  count\n",
       "0  1.112537e-308  6.001401e+09      1\n",
       "1  1.112537e-308  6.001402e+09      1\n",
       "2  1.112537e-308  6.013349e+09      1\n",
       "3  1.112537e-308  6.041121e+09      1\n",
       "4  1.112537e-308  6.041124e+09      2"
      ]
     },
     "execution_count": 31,
     "metadata": {},
     "output_type": "execute_result"
    }
   ],
   "source": [
    "users.head()"
   ]
  },
  {
   "cell_type": "code",
   "execution_count": 5,
   "metadata": {},
   "outputs": [
    {
     "data": {
      "text/html": [
       "<div>\n",
       "<style scoped>\n",
       "    .dataframe tbody tr th:only-of-type {\n",
       "        vertical-align: middle;\n",
       "    }\n",
       "\n",
       "    .dataframe tbody tr th {\n",
       "        vertical-align: top;\n",
       "    }\n",
       "\n",
       "    .dataframe thead th {\n",
       "        text-align: right;\n",
       "    }\n",
       "</style>\n",
       "<table border=\"1\" class=\"dataframe\">\n",
       "  <thead>\n",
       "    <tr style=\"text-align: right;\">\n",
       "      <th></th>\n",
       "      <th>OBJECTID</th>\n",
       "      <th>SRC_GEOID</th>\n",
       "      <th>NBR_GEOID</th>\n",
       "      <th>LENGTH</th>\n",
       "      <th>NODE_COUNT</th>\n",
       "    </tr>\n",
       "  </thead>\n",
       "  <tbody>\n",
       "    <tr>\n",
       "      <th>0</th>\n",
       "      <td>1</td>\n",
       "      <td>6001400100</td>\n",
       "      <td>6001404300</td>\n",
       "      <td>11.573519</td>\n",
       "      <td>0</td>\n",
       "    </tr>\n",
       "    <tr>\n",
       "      <th>1</th>\n",
       "      <td>2</td>\n",
       "      <td>6001400100</td>\n",
       "      <td>6001404400</td>\n",
       "      <td>4424.829004</td>\n",
       "      <td>0</td>\n",
       "    </tr>\n",
       "    <tr>\n",
       "      <th>2</th>\n",
       "      <td>3</td>\n",
       "      <td>6001400100</td>\n",
       "      <td>6001421600</td>\n",
       "      <td>477.810686</td>\n",
       "      <td>0</td>\n",
       "    </tr>\n",
       "    <tr>\n",
       "      <th>3</th>\n",
       "      <td>4</td>\n",
       "      <td>6001400100</td>\n",
       "      <td>6001422600</td>\n",
       "      <td>1282.939498</td>\n",
       "      <td>0</td>\n",
       "    </tr>\n",
       "    <tr>\n",
       "      <th>4</th>\n",
       "      <td>5</td>\n",
       "      <td>6001400100</td>\n",
       "      <td>6001422700</td>\n",
       "      <td>553.272576</td>\n",
       "      <td>0</td>\n",
       "    </tr>\n",
       "  </tbody>\n",
       "</table>\n",
       "</div>"
      ],
      "text/plain": [
       "   OBJECTID   SRC_GEOID   NBR_GEOID       LENGTH  NODE_COUNT\n",
       "0         1  6001400100  6001404300    11.573519           0\n",
       "1         2  6001400100  6001404400  4424.829004           0\n",
       "2         3  6001400100  6001421600   477.810686           0\n",
       "3         4  6001400100  6001422600  1282.939498           0\n",
       "4         5  6001400100  6001422700   553.272576           0"
      ]
     },
     "execution_count": 5,
     "metadata": {},
     "output_type": "execute_result"
    }
   ],
   "source": [
    "#read in neighbor dataset\n",
    "nn_data = pd.read_csv(\"/scratch/public/kushk/neighbor_new.csv\")\n",
    "nn_data.head()"
   ]
  },
  {
   "cell_type": "code",
   "execution_count": 6,
   "metadata": {},
   "outputs": [],
   "source": [
    "tracts = list(set(nn_data[\"SRC_GEOID\"]))"
   ]
  },
  {
   "cell_type": "code",
   "execution_count": 7,
   "metadata": {},
   "outputs": [],
   "source": [
    "means = []\n",
    "medians = []\n",
    "sds = []\n",
    "percentOverFive = []\n",
    "\n",
    "for tract in tracts:\n",
    "    one_tract = users[users[\"tract\"] == tract]\n",
    "    if(len(one_tract) > 0):\n",
    "        means.append(np.mean(one_tract[\"count\"]))\n",
    "        medians.append(np.median(one_tract[\"count\"]))\n",
    "        sds.append(np.std((one_tract[\"count\"])))\n",
    "        percentOverFive.append(sum(one_tract[\"count\"] > 5) / len(one_tract[\"count\"]))\n",
    "    else:\n",
    "        means.append(0)\n",
    "        medians.append(0)\n",
    "        sds.append(0)\n",
    "        percentOverFive.append(0)"
   ]
  },
  {
   "cell_type": "code",
   "execution_count": 8,
   "metadata": {},
   "outputs": [],
   "source": [
    "output = pd.DataFrame({\"Tract\" : list(tracts) , \"Mean User Tweets\" : means,  \"Median User Tweets\" : medians,  \"Mean STD DEV\" : sds, \"Percent over five\" : percentOverFive} , )"
   ]
  },
  {
   "cell_type": "code",
   "execution_count": 10,
   "metadata": {},
   "outputs": [],
   "source": [
    "output.to_csv(\"User_analysis_output_new.csv\")"
   ]
  },
  {
   "cell_type": "code",
   "execution_count": 9,
   "metadata": {},
   "outputs": [],
   "source": [
    "users.to_csv(\"users_new.csv\")"
   ]
  },
  {
   "cell_type": "code",
   "execution_count": 10,
   "metadata": {},
   "outputs": [
    {
     "data": {
      "text/html": [
       "<div>\n",
       "<style scoped>\n",
       "    .dataframe tbody tr th:only-of-type {\n",
       "        vertical-align: middle;\n",
       "    }\n",
       "\n",
       "    .dataframe tbody tr th {\n",
       "        vertical-align: top;\n",
       "    }\n",
       "\n",
       "    .dataframe thead th {\n",
       "        text-align: right;\n",
       "    }\n",
       "</style>\n",
       "<table border=\"1\" class=\"dataframe\">\n",
       "  <thead>\n",
       "    <tr style=\"text-align: right;\">\n",
       "      <th></th>\n",
       "      <th>Mean STD DEV</th>\n",
       "      <th>Mean User Tweets</th>\n",
       "      <th>Median User Tweets</th>\n",
       "      <th>Percent over five</th>\n",
       "      <th>Tract</th>\n",
       "    </tr>\n",
       "  </thead>\n",
       "  <tbody>\n",
       "    <tr>\n",
       "      <th>0</th>\n",
       "      <td>60.689933</td>\n",
       "      <td>15.363441</td>\n",
       "      <td>2.0</td>\n",
       "      <td>0.238710</td>\n",
       "      <td>6067003400</td>\n",
       "    </tr>\n",
       "    <tr>\n",
       "      <th>1</th>\n",
       "      <td>98.033474</td>\n",
       "      <td>6.147123</td>\n",
       "      <td>1.0</td>\n",
       "      <td>0.071661</td>\n",
       "      <td>6013354001</td>\n",
       "    </tr>\n",
       "    <tr>\n",
       "      <th>2</th>\n",
       "      <td>65.448926</td>\n",
       "      <td>6.808470</td>\n",
       "      <td>1.0</td>\n",
       "      <td>0.128319</td>\n",
       "      <td>6013354002</td>\n",
       "    </tr>\n",
       "    <tr>\n",
       "      <th>3</th>\n",
       "      <td>238.805483</td>\n",
       "      <td>35.590031</td>\n",
       "      <td>1.0</td>\n",
       "      <td>0.226857</td>\n",
       "      <td>6095251803</td>\n",
       "    </tr>\n",
       "    <tr>\n",
       "      <th>4</th>\n",
       "      <td>175.189010</td>\n",
       "      <td>42.491304</td>\n",
       "      <td>2.0</td>\n",
       "      <td>0.300000</td>\n",
       "      <td>6095251804</td>\n",
       "    </tr>\n",
       "  </tbody>\n",
       "</table>\n",
       "</div>"
      ],
      "text/plain": [
       "   Mean STD DEV  Mean User Tweets  Median User Tweets  Percent over five  \\\n",
       "0     60.689933         15.363441                 2.0           0.238710   \n",
       "1     98.033474          6.147123                 1.0           0.071661   \n",
       "2     65.448926          6.808470                 1.0           0.128319   \n",
       "3    238.805483         35.590031                 1.0           0.226857   \n",
       "4    175.189010         42.491304                 2.0           0.300000   \n",
       "\n",
       "        Tract  \n",
       "0  6067003400  \n",
       "1  6013354001  \n",
       "2  6013354002  \n",
       "3  6095251803  \n",
       "4  6095251804  "
      ]
     },
     "execution_count": 10,
     "metadata": {},
     "output_type": "execute_result"
    }
   ],
   "source": [
    "output.head()"
   ]
  },
  {
   "cell_type": "code",
   "execution_count": 11,
   "metadata": {},
   "outputs": [
    {
     "data": {
      "text/html": [
       "<div>\n",
       "<style scoped>\n",
       "    .dataframe tbody tr th:only-of-type {\n",
       "        vertical-align: middle;\n",
       "    }\n",
       "\n",
       "    .dataframe tbody tr th {\n",
       "        vertical-align: top;\n",
       "    }\n",
       "\n",
       "    .dataframe thead th {\n",
       "        text-align: right;\n",
       "    }\n",
       "</style>\n",
       "<table border=\"1\" class=\"dataframe\">\n",
       "  <thead>\n",
       "    <tr style=\"text-align: right;\">\n",
       "      <th></th>\n",
       "      <th>Tract</th>\n",
       "      <th>Percent over five</th>\n",
       "      <th>Median User Tweets</th>\n",
       "      <th>Mean User Tweets</th>\n",
       "      <th>Mean STD DEV</th>\n",
       "    </tr>\n",
       "  </thead>\n",
       "  <tbody>\n",
       "    <tr>\n",
       "      <th>0</th>\n",
       "      <td>6067003400</td>\n",
       "      <td>0.238710</td>\n",
       "      <td>2.0</td>\n",
       "      <td>15.363441</td>\n",
       "      <td>60.689933</td>\n",
       "    </tr>\n",
       "    <tr>\n",
       "      <th>1</th>\n",
       "      <td>6013354001</td>\n",
       "      <td>0.071661</td>\n",
       "      <td>1.0</td>\n",
       "      <td>6.147123</td>\n",
       "      <td>98.033474</td>\n",
       "    </tr>\n",
       "    <tr>\n",
       "      <th>2</th>\n",
       "      <td>6013354002</td>\n",
       "      <td>0.128319</td>\n",
       "      <td>1.0</td>\n",
       "      <td>6.808470</td>\n",
       "      <td>65.448926</td>\n",
       "    </tr>\n",
       "    <tr>\n",
       "      <th>3</th>\n",
       "      <td>6095251803</td>\n",
       "      <td>0.226857</td>\n",
       "      <td>1.0</td>\n",
       "      <td>35.590031</td>\n",
       "      <td>238.805483</td>\n",
       "    </tr>\n",
       "    <tr>\n",
       "      <th>4</th>\n",
       "      <td>6095251804</td>\n",
       "      <td>0.300000</td>\n",
       "      <td>2.0</td>\n",
       "      <td>42.491304</td>\n",
       "      <td>175.189010</td>\n",
       "    </tr>\n",
       "  </tbody>\n",
       "</table>\n",
       "</div>"
      ],
      "text/plain": [
       "        Tract  Percent over five  Median User Tweets  Mean User Tweets  \\\n",
       "0  6067003400           0.238710                 2.0         15.363441   \n",
       "1  6013354001           0.071661                 1.0          6.147123   \n",
       "2  6013354002           0.128319                 1.0          6.808470   \n",
       "3  6095251803           0.226857                 1.0         35.590031   \n",
       "4  6095251804           0.300000                 2.0         42.491304   \n",
       "\n",
       "   Mean STD DEV  \n",
       "0     60.689933  \n",
       "1     98.033474  \n",
       "2     65.448926  \n",
       "3    238.805483  \n",
       "4    175.189010  "
      ]
     },
     "execution_count": 11,
     "metadata": {},
     "output_type": "execute_result"
    }
   ],
   "source": [
    "cols = output.columns.tolist()\n",
    "cols = cols[::-1]\n",
    "output = output[cols]\n",
    "output.head()"
   ]
  },
  {
   "cell_type": "markdown",
   "metadata": {},
   "source": [
    "## Histogram of Mean user tweets by tract - Limited range [0,120]"
   ]
  },
  {
   "cell_type": "code",
   "execution_count": 26,
   "metadata": {},
   "outputs": [
    {
     "name": "stdout",
     "output_type": "stream",
     "text": [
      "Mean:  20.458799030770862\n",
      "Median:  15.55672051107629\n",
      "Std Dev: 16.28901761056476\n",
      "Max:  149.75038284839204\n",
      "Min:  0.0\n"
     ]
    },
    {
     "data": {
      "image/png": "[encoded data removed]",
      "text/plain": [
       "<Figure size 432x288 with 1 Axes>"
      ]
     },
     "metadata": {},
     "output_type": "display_data"
    }
   ],
   "source": [
    "plt.hist(output[\"Mean User Tweets\"] , bins = range(120))\n",
    "plt.xlabel(\"Mean Tweets per User in a Tract\")\n",
    "plt.ylabel(\"Number of Tracts\")\n",
    "plt.title(\"Mean User Tweets by Tract\")\n",
    "stats(output[\"Mean User Tweets\"])"
   ]
  },
  {
   "cell_type": "markdown",
   "metadata": {},
   "source": [
    "## Histogram of Median User Tweets by Tract"
   ]
  },
  {
   "cell_type": "code",
   "execution_count": 27,
   "metadata": {},
   "outputs": [
    {
     "name": "stdout",
     "output_type": "stream",
     "text": [
      "Mean:  1.5758258258258258\n",
      "Median:  2.0\n",
      "Std Dev: 0.6794062013848369\n",
      "Max:  12.0\n",
      "Min:  0.0\n"
     ]
    },
    {
     "data": {
      "image/png": "[encoded data removed]",
      "text/plain": [
       "<Figure size 432x288 with 1 Axes>"
      ]
     },
     "metadata": {},
     "output_type": "display_data"
    }
   ],
   "source": [
    "plt.hist(output[\"Median User Tweets\"])\n",
    "plt.xlabel(\"Median Tweets per User (for a given Tract)\")\n",
    "plt.ylabel(\"Number of Tracts\")\n",
    "plt.title(\"Median User Tweets by Tract\")\n",
    "stats(output[\"Median User Tweets\"])"
   ]
  },
  {
   "cell_type": "markdown",
   "metadata": {},
   "source": [
    "## Histogram of Tweets per User - limited from [0,60]"
   ]
  },
  {
   "cell_type": "code",
   "execution_count": 29,
   "metadata": {},
   "outputs": [
    {
     "name": "stdout",
     "output_type": "stream",
     "text": [
      "Mean:  15.931138107908515\n",
      "Median:  2.0\n",
      "Std Dev: 171.09390758843494\n",
      "Max:  88707\n",
      "Min:  1\n"
     ]
    },
    {
     "data": {
      "image/png": "[encoded data removed]",
      "text/plain": [
       "<Figure size 432x288 with 1 Axes>"
      ]
     },
     "metadata": {},
     "output_type": "display_data"
    }
   ],
   "source": [
    "plt.hist(users[\"count\"] , bins=range(60))\n",
    "plt.xlabel(\"Tweets per User\")\n",
    "plt.ylabel(\"Number of Users\")\n",
    "plt.title(\"Tweets per User\")\n",
    "stats(users[\"count\"])"
   ]
  },
  {
   "cell_type": "markdown",
   "metadata": {},
   "source": [
    "## Histogram of Percent of Users above 5 tweets in a tract"
   ]
  },
  {
   "cell_type": "code",
   "execution_count": 30,
   "metadata": {},
   "outputs": [
    {
     "name": "stdout",
     "output_type": "stream",
     "text": [
      "Mean:  0.20522393353067145\n",
      "Median:  0.19524222470456817\n",
      "Std Dev: 0.0735043355859637\n",
      "Max:  0.5714285714285714\n",
      "Min:  0.0\n"
     ]
    },
    {
     "data": {
      "image/png": "[encoded data removed]",
      "text/plain": [
       "<Figure size 432x288 with 1 Axes>"
      ]
     },
     "metadata": {},
     "output_type": "display_data"
    }
   ],
   "source": [
    "plt.hist(output[\"Percent over five\"])\n",
    "plt.xlabel(\"Percent of Users above 5 tweets in a tract\")\n",
    "plt.ylabel(\"Number of Tracts\")\n",
    "plt.title(\"Percent of Users above 5 tweets in a tract\")\n",
    "stats(output[\"Percent over five\"])"
   ]
  },
  {
   "cell_type": "code",
   "execution_count": null,
   "metadata": {},
   "outputs": [],
   "source": []
  }
 ],
 "metadata": {
  "anaconda-cloud": {},
  "kernelspec": {
   "display_name": "Python 3",
   "language": "python",
   "name": "python3"
  },
  "language_info": {
   "codemirror_mode": {
    "name": "ipython",
    "version": 3
   },
   "file_extension": ".py",
   "mimetype": "text/x-python",
   "name": "python",
   "nbconvert_exporter": "python",
   "pygments_lexer": "ipython3",
   "version": "3.5.5"
  }
 },
 "nbformat": 4,
 "nbformat_minor": 2
}
