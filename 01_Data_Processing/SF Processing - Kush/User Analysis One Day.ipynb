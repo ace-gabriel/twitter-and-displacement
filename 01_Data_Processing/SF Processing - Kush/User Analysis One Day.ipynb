{
 "cells": [
  {
   "cell_type": "code",
   "execution_count": 1,
   "metadata": {},
   "outputs": [],
   "source": [
    "import pandas as pd\n",
    "import numpy as np\n",
    "import matplotlib.pyplot as plt\n",
    "%matplotlib inline"
   ]
  },
  {
   "cell_type": "code",
   "execution_count": 2,
   "metadata": {},
   "outputs": [],
   "source": [
    "def stats(arr):\n",
    "    print(\"Mean: \" , np.mean(arr))\n",
    "    print(\"Median: \", np.median(arr))\n",
    "    print(\"Std Dev:\" , np.std(arr))\n",
    "    print(\"Max: \" , max(arr))\n",
    "    print(\"Min: \" , min(arr))"
   ]
  },
  {
   "cell_type": "code",
   "execution_count": 5,
   "metadata": {},
   "outputs": [
    {
     "name": "stdout",
     "output_type": "stream",
     "text": [
      "CPU times: user 1min 35s, sys: 5.87 s, total: 1min 41s\n",
      "Wall time: 1min 41s\n"
     ]
    }
   ],
   "source": [
    "%%time\n",
    "sf_data = pd.read_csv(\"/scratch/public/kushk/sf_with_homeloc_one_tweet_per_day.csv\")\n",
    "sf_data = sf_data[~sf_data[\"home_tract\"].isna()]\n",
    "sf_data = sf_data[~sf_data[\"tract\"].isna()]"
   ]
  },
  {
   "cell_type": "code",
   "execution_count": 6,
   "metadata": {},
   "outputs": [
    {
     "data": {
      "text/html": [
       "<div>\n",
       "<style scoped>\n",
       "    .dataframe tbody tr th:only-of-type {\n",
       "        vertical-align: middle;\n",
       "    }\n",
       "\n",
       "    .dataframe tbody tr th {\n",
       "        vertical-align: top;\n",
       "    }\n",
       "\n",
       "    .dataframe thead th {\n",
       "        text-align: right;\n",
       "    }\n",
       "</style>\n",
       "<table border=\"1\" class=\"dataframe\">\n",
       "  <thead>\n",
       "    <tr style=\"text-align: right;\">\n",
       "      <th></th>\n",
       "      <th>Unnamed: 0</th>\n",
       "      <th>sf_with_homeloc.csv</th>\n",
       "      <th>u_id</th>\n",
       "      <th>lat</th>\n",
       "      <th>lon</th>\n",
       "      <th>date</th>\n",
       "      <th>tract</th>\n",
       "      <th>home_tract</th>\n",
       "      <th>time</th>\n",
       "      <th>calDate</th>\n",
       "    </tr>\n",
       "  </thead>\n",
       "  <tbody>\n",
       "    <tr>\n",
       "      <th>0</th>\n",
       "      <td>0</td>\n",
       "      <td>2.117882e-293</td>\n",
       "      <td>1.112537e-308</td>\n",
       "      <td>37.423851</td>\n",
       "      <td>-122.196872</td>\n",
       "      <td>2012-07-26T00:49:46Z</td>\n",
       "      <td>6.081613e+09</td>\n",
       "      <td>6.085509e+09</td>\n",
       "      <td>00:49:46</td>\n",
       "      <td>2012-07-26</td>\n",
       "    </tr>\n",
       "    <tr>\n",
       "      <th>1</th>\n",
       "      <td>1</td>\n",
       "      <td>2.117950e-293</td>\n",
       "      <td>1.112537e-308</td>\n",
       "      <td>38.674385</td>\n",
       "      <td>-121.342140</td>\n",
       "      <td>2012-07-26T00:50:45Z</td>\n",
       "      <td>6.067008e+09</td>\n",
       "      <td>6.067008e+09</td>\n",
       "      <td>00:50:45</td>\n",
       "      <td>2012-07-26</td>\n",
       "    </tr>\n",
       "    <tr>\n",
       "      <th>2</th>\n",
       "      <td>2</td>\n",
       "      <td>2.117956e-293</td>\n",
       "      <td>1.112537e-308</td>\n",
       "      <td>38.393944</td>\n",
       "      <td>-121.968185</td>\n",
       "      <td>2012-07-26T00:50:50Z</td>\n",
       "      <td>6.095253e+09</td>\n",
       "      <td>6.095253e+09</td>\n",
       "      <td>00:50:50</td>\n",
       "      <td>2012-07-26</td>\n",
       "    </tr>\n",
       "    <tr>\n",
       "      <th>3</th>\n",
       "      <td>3</td>\n",
       "      <td>2.117963e-293</td>\n",
       "      <td>1.112537e-308</td>\n",
       "      <td>37.694860</td>\n",
       "      <td>-122.484290</td>\n",
       "      <td>2012-07-26T00:50:56Z</td>\n",
       "      <td>6.081601e+09</td>\n",
       "      <td>6.081603e+09</td>\n",
       "      <td>00:50:56</td>\n",
       "      <td>2012-07-26</td>\n",
       "    </tr>\n",
       "    <tr>\n",
       "      <th>4</th>\n",
       "      <td>4</td>\n",
       "      <td>2.117966e-293</td>\n",
       "      <td>1.112537e-308</td>\n",
       "      <td>37.325984</td>\n",
       "      <td>-121.896728</td>\n",
       "      <td>2012-07-26T00:50:58Z</td>\n",
       "      <td>6.085501e+09</td>\n",
       "      <td>6.085501e+09</td>\n",
       "      <td>00:50:58</td>\n",
       "      <td>2012-07-26</td>\n",
       "    </tr>\n",
       "  </tbody>\n",
       "</table>\n",
       "</div>"
      ],
      "text/plain": [
       "   Unnamed: 0  sf_with_homeloc.csv           u_id        lat         lon  \\\n",
       "0           0        2.117882e-293  1.112537e-308  37.423851 -122.196872   \n",
       "1           1        2.117950e-293  1.112537e-308  38.674385 -121.342140   \n",
       "2           2        2.117956e-293  1.112537e-308  38.393944 -121.968185   \n",
       "3           3        2.117963e-293  1.112537e-308  37.694860 -122.484290   \n",
       "4           4        2.117966e-293  1.112537e-308  37.325984 -121.896728   \n",
       "\n",
       "                   date         tract    home_tract      time     calDate  \n",
       "0  2012-07-26T00:49:46Z  6.081613e+09  6.085509e+09  00:49:46  2012-07-26  \n",
       "1  2012-07-26T00:50:45Z  6.067008e+09  6.067008e+09  00:50:45  2012-07-26  \n",
       "2  2012-07-26T00:50:50Z  6.095253e+09  6.095253e+09  00:50:50  2012-07-26  \n",
       "3  2012-07-26T00:50:56Z  6.081601e+09  6.081603e+09  00:50:56  2012-07-26  \n",
       "4  2012-07-26T00:50:58Z  6.085501e+09  6.085501e+09  00:50:58  2012-07-26  "
      ]
     },
     "execution_count": 6,
     "metadata": {},
     "output_type": "execute_result"
    }
   ],
   "source": [
    "sf_data.head()"
   ]
  },
  {
   "cell_type": "code",
   "execution_count": 7,
   "metadata": {},
   "outputs": [
    {
     "data": {
      "text/plain": [
       "14585347"
      ]
     },
     "execution_count": 7,
     "metadata": {},
     "output_type": "execute_result"
    }
   ],
   "source": [
    "len(sf_data)"
   ]
  },
  {
   "cell_type": "code",
   "execution_count": 8,
   "metadata": {},
   "outputs": [],
   "source": [
    "data = sf_data.groupby([\"u_id\"]).size()"
   ]
  },
  {
   "cell_type": "code",
   "execution_count": 9,
   "metadata": {},
   "outputs": [
    {
     "name": "stdout",
     "output_type": "stream",
     "text": [
      "Mean:  143.2393518291186\n",
      "Median:  76.0\n",
      "Std Dev: 294.114127617148\n",
      "Max:  47852\n",
      "Min:  11\n"
     ]
    },
    {
     "data": {
      "image/png": "[encoded data removed]",
      "text/plain": [
       "<Figure size 432x288 with 1 Axes>"
      ]
     },
     "metadata": {},
     "output_type": "display_data"
    }
   ],
   "source": [
    "data.hist(bins= range(0,2000, 10))\n",
    "stats(data)"
   ]
  },
  {
   "cell_type": "code",
   "execution_count": null,
   "metadata": {},
   "outputs": [],
   "source": []
  },
  {
   "cell_type": "code",
   "execution_count": 10,
   "metadata": {},
   "outputs": [
    {
     "data": {
      "text/plain": [
       "0.4268818561533024"
      ]
     },
     "execution_count": 10,
     "metadata": {},
     "output_type": "execute_result"
    }
   ],
   "source": [
    "sum(data[data > data.quantile(0.9)]) / sum(data)"
   ]
  },
  {
   "cell_type": "markdown",
   "metadata": {},
   "source": [
    "## Group tweets by UserId/Tract combo count"
   ]
  },
  {
   "cell_type": "code",
   "execution_count": 11,
   "metadata": {},
   "outputs": [],
   "source": [
    "users = sf_data.groupby([\"u_id\" , \"tract\"]).size().reset_index().rename(columns={0:'count'})"
   ]
  },
  {
   "cell_type": "code",
   "execution_count": 12,
   "metadata": {},
   "outputs": [
    {
     "data": {
      "text/html": [
       "<div>\n",
       "<style scoped>\n",
       "    .dataframe tbody tr th:only-of-type {\n",
       "        vertical-align: middle;\n",
       "    }\n",
       "\n",
       "    .dataframe tbody tr th {\n",
       "        vertical-align: top;\n",
       "    }\n",
       "\n",
       "    .dataframe thead th {\n",
       "        text-align: right;\n",
       "    }\n",
       "</style>\n",
       "<table border=\"1\" class=\"dataframe\">\n",
       "  <thead>\n",
       "    <tr style=\"text-align: right;\">\n",
       "      <th></th>\n",
       "      <th>u_id</th>\n",
       "      <th>tract</th>\n",
       "      <th>count</th>\n",
       "    </tr>\n",
       "  </thead>\n",
       "  <tbody>\n",
       "    <tr>\n",
       "      <th>0</th>\n",
       "      <td>1.112537e-308</td>\n",
       "      <td>6.001401e+09</td>\n",
       "      <td>1</td>\n",
       "    </tr>\n",
       "    <tr>\n",
       "      <th>1</th>\n",
       "      <td>1.112537e-308</td>\n",
       "      <td>6.001402e+09</td>\n",
       "      <td>1</td>\n",
       "    </tr>\n",
       "    <tr>\n",
       "      <th>2</th>\n",
       "      <td>1.112537e-308</td>\n",
       "      <td>6.013349e+09</td>\n",
       "      <td>1</td>\n",
       "    </tr>\n",
       "    <tr>\n",
       "      <th>3</th>\n",
       "      <td>1.112537e-308</td>\n",
       "      <td>6.041121e+09</td>\n",
       "      <td>1</td>\n",
       "    </tr>\n",
       "    <tr>\n",
       "      <th>4</th>\n",
       "      <td>1.112537e-308</td>\n",
       "      <td>6.041124e+09</td>\n",
       "      <td>1</td>\n",
       "    </tr>\n",
       "  </tbody>\n",
       "</table>\n",
       "</div>"
      ],
      "text/plain": [
       "            u_id         tract  count\n",
       "0  1.112537e-308  6.001401e+09      1\n",
       "1  1.112537e-308  6.001402e+09      1\n",
       "2  1.112537e-308  6.013349e+09      1\n",
       "3  1.112537e-308  6.041121e+09      1\n",
       "4  1.112537e-308  6.041124e+09      1"
      ]
     },
     "execution_count": 12,
     "metadata": {},
     "output_type": "execute_result"
    }
   ],
   "source": [
    "users.head()"
   ]
  },
  {
   "cell_type": "code",
   "execution_count": 13,
   "metadata": {},
   "outputs": [
    {
     "data": {
      "text/html": [
       "<div>\n",
       "<style scoped>\n",
       "    .dataframe tbody tr th:only-of-type {\n",
       "        vertical-align: middle;\n",
       "    }\n",
       "\n",
       "    .dataframe tbody tr th {\n",
       "        vertical-align: top;\n",
       "    }\n",
       "\n",
       "    .dataframe thead th {\n",
       "        text-align: right;\n",
       "    }\n",
       "</style>\n",
       "<table border=\"1\" class=\"dataframe\">\n",
       "  <thead>\n",
       "    <tr style=\"text-align: right;\">\n",
       "      <th></th>\n",
       "      <th>OBJECTID</th>\n",
       "      <th>SRC_GEOID</th>\n",
       "      <th>NBR_GEOID</th>\n",
       "      <th>LENGTH</th>\n",
       "      <th>NODE_COUNT</th>\n",
       "    </tr>\n",
       "  </thead>\n",
       "  <tbody>\n",
       "    <tr>\n",
       "      <th>0</th>\n",
       "      <td>1</td>\n",
       "      <td>6001400100</td>\n",
       "      <td>6001404300</td>\n",
       "      <td>11.573519</td>\n",
       "      <td>0</td>\n",
       "    </tr>\n",
       "    <tr>\n",
       "      <th>1</th>\n",
       "      <td>2</td>\n",
       "      <td>6001400100</td>\n",
       "      <td>6001404400</td>\n",
       "      <td>4424.829004</td>\n",
       "      <td>0</td>\n",
       "    </tr>\n",
       "    <tr>\n",
       "      <th>2</th>\n",
       "      <td>3</td>\n",
       "      <td>6001400100</td>\n",
       "      <td>6001421600</td>\n",
       "      <td>477.810686</td>\n",
       "      <td>0</td>\n",
       "    </tr>\n",
       "    <tr>\n",
       "      <th>3</th>\n",
       "      <td>4</td>\n",
       "      <td>6001400100</td>\n",
       "      <td>6001422600</td>\n",
       "      <td>1282.939498</td>\n",
       "      <td>0</td>\n",
       "    </tr>\n",
       "    <tr>\n",
       "      <th>4</th>\n",
       "      <td>5</td>\n",
       "      <td>6001400100</td>\n",
       "      <td>6001422700</td>\n",
       "      <td>553.272576</td>\n",
       "      <td>0</td>\n",
       "    </tr>\n",
       "  </tbody>\n",
       "</table>\n",
       "</div>"
      ],
      "text/plain": [
       "   OBJECTID   SRC_GEOID   NBR_GEOID       LENGTH  NODE_COUNT\n",
       "0         1  6001400100  6001404300    11.573519           0\n",
       "1         2  6001400100  6001404400  4424.829004           0\n",
       "2         3  6001400100  6001421600   477.810686           0\n",
       "3         4  6001400100  6001422600  1282.939498           0\n",
       "4         5  6001400100  6001422700   553.272576           0"
      ]
     },
     "execution_count": 13,
     "metadata": {},
     "output_type": "execute_result"
    }
   ],
   "source": [
    "#read in neighbor dataset\n",
    "nn_data = pd.read_csv(\"/scratch/public/kushk/neighbor_new.csv\")\n",
    "nn_data.head()"
   ]
  },
  {
   "cell_type": "code",
   "execution_count": 14,
   "metadata": {},
   "outputs": [],
   "source": [
    "tracts = list(set(nn_data[\"SRC_GEOID\"]))"
   ]
  },
  {
   "cell_type": "code",
   "execution_count": 15,
   "metadata": {},
   "outputs": [],
   "source": [
    "means = []\n",
    "medians = []\n",
    "sds = []\n",
    "percentOverFive = []\n",
    "\n",
    "for tract in tracts:\n",
    "    one_tract = users[users[\"tract\"] == tract]\n",
    "    if(len(one_tract) > 0):\n",
    "        means.append(np.mean(one_tract[\"count\"]))\n",
    "        medians.append(np.median(one_tract[\"count\"]))\n",
    "        sds.append(np.std((one_tract[\"count\"])))\n",
    "        percentOverFive.append(sum(one_tract[\"count\"] > 5) / len(one_tract[\"count\"]))\n",
    "    else:\n",
    "        means.append(0)\n",
    "        medians.append(0)\n",
    "        sds.append(0)\n",
    "        percentOverFive.append(0)"
   ]
  },
  {
   "cell_type": "code",
   "execution_count": 16,
   "metadata": {},
   "outputs": [],
   "source": [
    "output = pd.DataFrame({\"Tract\" : list(tracts) , \"Mean User Tweets\" : means,  \"Median User Tweets\" : medians,  \"Mean STD DEV\" : sds, \"Percent over five\" : percentOverFive} , )"
   ]
  },
  {
   "cell_type": "code",
   "execution_count": 17,
   "metadata": {},
   "outputs": [],
   "source": [
    "output.to_csv(\"User_analysis_output_oneday.csv\")"
   ]
  },
  {
   "cell_type": "code",
   "execution_count": 18,
   "metadata": {},
   "outputs": [],
   "source": [
    "users.to_csv(\"users_new_oneday.csv\")"
   ]
  },
  {
   "cell_type": "code",
   "execution_count": 19,
   "metadata": {},
   "outputs": [
    {
     "data": {
      "text/html": [
       "<div>\n",
       "<style scoped>\n",
       "    .dataframe tbody tr th:only-of-type {\n",
       "        vertical-align: middle;\n",
       "    }\n",
       "\n",
       "    .dataframe tbody tr th {\n",
       "        vertical-align: top;\n",
       "    }\n",
       "\n",
       "    .dataframe thead th {\n",
       "        text-align: right;\n",
       "    }\n",
       "</style>\n",
       "<table border=\"1\" class=\"dataframe\">\n",
       "  <thead>\n",
       "    <tr style=\"text-align: right;\">\n",
       "      <th></th>\n",
       "      <th>Mean STD DEV</th>\n",
       "      <th>Mean User Tweets</th>\n",
       "      <th>Median User Tweets</th>\n",
       "      <th>Percent over five</th>\n",
       "      <th>Tract</th>\n",
       "    </tr>\n",
       "  </thead>\n",
       "  <tbody>\n",
       "    <tr>\n",
       "      <th>0</th>\n",
       "      <td>16.118561</td>\n",
       "      <td>5.187097</td>\n",
       "      <td>1.0</td>\n",
       "      <td>0.144086</td>\n",
       "      <td>6067003400</td>\n",
       "    </tr>\n",
       "    <tr>\n",
       "      <th>1</th>\n",
       "      <td>7.231254</td>\n",
       "      <td>2.255157</td>\n",
       "      <td>1.0</td>\n",
       "      <td>0.048317</td>\n",
       "      <td>6013354001</td>\n",
       "    </tr>\n",
       "    <tr>\n",
       "      <th>2</th>\n",
       "      <td>10.864635</td>\n",
       "      <td>3.312263</td>\n",
       "      <td>1.0</td>\n",
       "      <td>0.093552</td>\n",
       "      <td>6013354002</td>\n",
       "    </tr>\n",
       "    <tr>\n",
       "      <th>3</th>\n",
       "      <td>21.326406</td>\n",
       "      <td>6.136317</td>\n",
       "      <td>1.0</td>\n",
       "      <td>0.156663</td>\n",
       "      <td>6095251803</td>\n",
       "    </tr>\n",
       "    <tr>\n",
       "      <th>4</th>\n",
       "      <td>29.540961</td>\n",
       "      <td>10.165217</td>\n",
       "      <td>1.0</td>\n",
       "      <td>0.213043</td>\n",
       "      <td>6095251804</td>\n",
       "    </tr>\n",
       "  </tbody>\n",
       "</table>\n",
       "</div>"
      ],
      "text/plain": [
       "   Mean STD DEV  Mean User Tweets  Median User Tweets  Percent over five  \\\n",
       "0     16.118561          5.187097                 1.0           0.144086   \n",
       "1      7.231254          2.255157                 1.0           0.048317   \n",
       "2     10.864635          3.312263                 1.0           0.093552   \n",
       "3     21.326406          6.136317                 1.0           0.156663   \n",
       "4     29.540961         10.165217                 1.0           0.213043   \n",
       "\n",
       "        Tract  \n",
       "0  6067003400  \n",
       "1  6013354001  \n",
       "2  6013354002  \n",
       "3  6095251803  \n",
       "4  6095251804  "
      ]
     },
     "execution_count": 19,
     "metadata": {},
     "output_type": "execute_result"
    }
   ],
   "source": [
    "output.head()"
   ]
  },
  {
   "cell_type": "code",
   "execution_count": 20,
   "metadata": {},
   "outputs": [
    {
     "data": {
      "text/html": [
       "<div>\n",
       "<style scoped>\n",
       "    .dataframe tbody tr th:only-of-type {\n",
       "        vertical-align: middle;\n",
       "    }\n",
       "\n",
       "    .dataframe tbody tr th {\n",
       "        vertical-align: top;\n",
       "    }\n",
       "\n",
       "    .dataframe thead th {\n",
       "        text-align: right;\n",
       "    }\n",
       "</style>\n",
       "<table border=\"1\" class=\"dataframe\">\n",
       "  <thead>\n",
       "    <tr style=\"text-align: right;\">\n",
       "      <th></th>\n",
       "      <th>Tract</th>\n",
       "      <th>Percent over five</th>\n",
       "      <th>Median User Tweets</th>\n",
       "      <th>Mean User Tweets</th>\n",
       "      <th>Mean STD DEV</th>\n",
       "    </tr>\n",
       "  </thead>\n",
       "  <tbody>\n",
       "    <tr>\n",
       "      <th>0</th>\n",
       "      <td>6067003400</td>\n",
       "      <td>0.144086</td>\n",
       "      <td>1.0</td>\n",
       "      <td>5.187097</td>\n",
       "      <td>16.118561</td>\n",
       "    </tr>\n",
       "    <tr>\n",
       "      <th>1</th>\n",
       "      <td>6013354001</td>\n",
       "      <td>0.048317</td>\n",
       "      <td>1.0</td>\n",
       "      <td>2.255157</td>\n",
       "      <td>7.231254</td>\n",
       "    </tr>\n",
       "    <tr>\n",
       "      <th>2</th>\n",
       "      <td>6013354002</td>\n",
       "      <td>0.093552</td>\n",
       "      <td>1.0</td>\n",
       "      <td>3.312263</td>\n",
       "      <td>10.864635</td>\n",
       "    </tr>\n",
       "    <tr>\n",
       "      <th>3</th>\n",
       "      <td>6095251803</td>\n",
       "      <td>0.156663</td>\n",
       "      <td>1.0</td>\n",
       "      <td>6.136317</td>\n",
       "      <td>21.326406</td>\n",
       "    </tr>\n",
       "    <tr>\n",
       "      <th>4</th>\n",
       "      <td>6095251804</td>\n",
       "      <td>0.213043</td>\n",
       "      <td>1.0</td>\n",
       "      <td>10.165217</td>\n",
       "      <td>29.540961</td>\n",
       "    </tr>\n",
       "  </tbody>\n",
       "</table>\n",
       "</div>"
      ],
      "text/plain": [
       "        Tract  Percent over five  Median User Tweets  Mean User Tweets  \\\n",
       "0  6067003400           0.144086                 1.0          5.187097   \n",
       "1  6013354001           0.048317                 1.0          2.255157   \n",
       "2  6013354002           0.093552                 1.0          3.312263   \n",
       "3  6095251803           0.156663                 1.0          6.136317   \n",
       "4  6095251804           0.213043                 1.0         10.165217   \n",
       "\n",
       "   Mean STD DEV  \n",
       "0     16.118561  \n",
       "1      7.231254  \n",
       "2     10.864635  \n",
       "3     21.326406  \n",
       "4     29.540961  "
      ]
     },
     "execution_count": 20,
     "metadata": {},
     "output_type": "execute_result"
    }
   ],
   "source": [
    "cols = output.columns.tolist()\n",
    "cols = cols[::-1]\n",
    "output = output[cols]\n",
    "output.head()"
   ]
  },
  {
   "cell_type": "markdown",
   "metadata": {},
   "source": [
    "## Histogram of Mean user tweets by tract - Limited range [0,120]"
   ]
  },
  {
   "cell_type": "code",
   "execution_count": 21,
   "metadata": {},
   "outputs": [
    {
     "name": "stdout",
     "output_type": "stream",
     "text": [
      "Mean:  5.480398026453314\n",
      "Median:  4.9302132132132135\n",
      "Std Dev: 2.327557910451644\n",
      "Max:  24.659685863874344\n",
      "Min:  0.0\n"
     ]
    },
    {
     "data": {
      "image/png": "[encoded data removed]",
      "text/plain": [
       "<Figure size 432x288 with 1 Axes>"
      ]
     },
     "metadata": {},
     "output_type": "display_data"
    }
   ],
   "source": [
    "plt.hist(output[\"Mean User Tweets\"] , bins = range(120))\n",
    "plt.xlabel(\"Mean Tweets per User in a Tract\")\n",
    "plt.ylabel(\"Number of Tracts\")\n",
    "plt.title(\"Mean User Tweets by Tract\")\n",
    "stats(output[\"Mean User Tweets\"])"
   ]
  },
  {
   "cell_type": "markdown",
   "metadata": {},
   "source": [
    "## Histogram of Median User Tweets by Tract"
   ]
  },
  {
   "cell_type": "code",
   "execution_count": 22,
   "metadata": {},
   "outputs": [
    {
     "name": "stdout",
     "output_type": "stream",
     "text": [
      "Mean:  1.0823323323323324\n",
      "Median:  1.0\n",
      "Std Dev: 0.32164673523595805\n",
      "Max:  6.0\n",
      "Min:  0.0\n"
     ]
    },
    {
     "data": {
      "image/png": "[encoded data removed]",
      "text/plain": [
       "<Figure size 432x288 with 1 Axes>"
      ]
     },
     "metadata": {},
     "output_type": "display_data"
    }
   ],
   "source": [
    "plt.hist(output[\"Median User Tweets\"])\n",
    "plt.xlabel(\"Median Tweets per User (for a given Tract)\")\n",
    "plt.ylabel(\"Number of Tracts\")\n",
    "plt.title(\"Median User Tweets by Tract\")\n",
    "stats(output[\"Median User Tweets\"])"
   ]
  },
  {
   "cell_type": "markdown",
   "metadata": {},
   "source": [
    "## Histogram of Tweets per User - limited from [0,60]"
   ]
  },
  {
   "cell_type": "code",
   "execution_count": 23,
   "metadata": {},
   "outputs": [
    {
     "name": "stdout",
     "output_type": "stream",
     "text": [
      "Mean:  4.876054544986509\n",
      "Median:  1.0\n",
      "Std Dev: 16.909005869664554\n",
      "Max:  1032\n",
      "Min:  1\n"
     ]
    },
    {
     "data": {
      "image/png": "[encoded data removed]",
      "text/plain": [
       "<Figure size 432x288 with 1 Axes>"
      ]
     },
     "metadata": {},
     "output_type": "display_data"
    }
   ],
   "source": [
    "plt.hist(users[\"count\"] , bins=range(60))\n",
    "plt.xlabel(\"Tweets per User\")\n",
    "plt.ylabel(\"Number of Users\")\n",
    "plt.title(\"Tweets per User\")\n",
    "stats(users[\"count\"])"
   ]
  },
  {
   "cell_type": "markdown",
   "metadata": {},
   "source": [
    "## Histogram of Percent of Users above 5 tweets in a tract"
   ]
  },
  {
   "cell_type": "code",
   "execution_count": 24,
   "metadata": {},
   "outputs": [
    {
     "name": "stdout",
     "output_type": "stream",
     "text": [
      "Mean:  0.14276993690772993\n",
      "Median:  0.1341373052559493\n",
      "Std Dev: 0.057759221925155126\n",
      "Max:  0.5071054599850411\n",
      "Min:  0.0\n"
     ]
    },
    {
     "data": {
      "image/png": "[encoded data removed]",
      "text/plain": [
       "<Figure size 432x288 with 1 Axes>"
      ]
     },
     "metadata": {},
     "output_type": "display_data"
    }
   ],
   "source": [
    "plt.hist(output[\"Percent over five\"])\n",
    "plt.xlabel(\"Percent of Users above 5 tweets in a tract\")\n",
    "plt.ylabel(\"Number of Tracts\")\n",
    "plt.title(\"Percent of Users above 5 tweets in a tract\")\n",
    "stats(output[\"Percent over five\"])"
   ]
  },
  {
   "cell_type": "code",
   "execution_count": null,
   "metadata": {},
   "outputs": [],
   "source": []
  },
  {
   "cell_type": "code",
   "execution_count": null,
   "metadata": {},
   "outputs": [],
   "source": []
  }
 ],
 "metadata": {
  "anaconda-cloud": {},
  "kernelspec": {
   "display_name": "Python 3",
   "language": "python",
   "name": "python3"
  },
  "language_info": {
   "codemirror_mode": {
    "name": "ipython",
    "version": 3
   },
   "file_extension": ".py",
   "mimetype": "text/x-python",
   "name": "python",
   "nbconvert_exporter": "python",
   "pygments_lexer": "ipython3",
   "version": "3.5.5"
  }
 },
 "nbformat": 4,
 "nbformat_minor": 2
}
