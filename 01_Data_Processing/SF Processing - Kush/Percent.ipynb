{
 "cells": [
  {
   "cell_type": "code",
   "execution_count": 2,
   "metadata": {
    "collapsed": true
   },
   "outputs": [],
   "source": [
    "import pandas as pd"
   ]
  },
  {
   "cell_type": "code",
   "execution_count": 11,
   "metadata": {
    "collapsed": true
   },
   "outputs": [],
   "source": [
    "data = pd.read_csv(\"10millionabs.csv\")"
   ]
  },
  {
   "cell_type": "markdown",
   "metadata": {},
   "source": [
    "### Read in the absolute value table, divide every value by the total tweets in that tract (giving the percent of tweets in that combo category). "
   ]
  },
  {
   "cell_type": "code",
   "execution_count": 12,
   "metadata": {
    "collapsed": true
   },
   "outputs": [],
   "source": [
    "total = data[\"home\"] + data[\"neighbor\"] + data[\"non-neighbor\"]\n",
    "def getPercent(col):\n",
    "    return col/total"
   ]
  },
  {
   "cell_type": "code",
   "execution_count": 13,
   "metadata": {
    "collapsed": true
   },
   "outputs": [],
   "source": [
    "percentFrame = data.apply(getPercent)"
   ]
  },
  {
   "cell_type": "code",
   "execution_count": 14,
   "metadata": {},
   "outputs": [
    {
     "data": {
      "text/html": [
       "<div>\n",
       "<style scoped>\n",
       "    .dataframe tbody tr th:only-of-type {\n",
       "        vertical-align: middle;\n",
       "    }\n",
       "\n",
       "    .dataframe tbody tr th {\n",
       "        vertical-align: top;\n",
       "    }\n",
       "\n",
       "    .dataframe thead th {\n",
       "        text-align: right;\n",
       "    }\n",
       "</style>\n",
       "<table border=\"1\" class=\"dataframe\">\n",
       "  <thead>\n",
       "    <tr style=\"text-align: right;\">\n",
       "      <th></th>\n",
       "      <th>Tract</th>\n",
       "      <th>total</th>\n",
       "      <th>home</th>\n",
       "      <th>home day</th>\n",
       "      <th>home night</th>\n",
       "      <th>home weekday</th>\n",
       "      <th>home weekend</th>\n",
       "      <th>neighbor</th>\n",
       "      <th>neighbor day</th>\n",
       "      <th>neighbor night</th>\n",
       "      <th>neighbor weekday</th>\n",
       "      <th>neighbor weekend</th>\n",
       "      <th>non-neighbor</th>\n",
       "      <th>non-neighbor day</th>\n",
       "      <th>non-neighbor night</th>\n",
       "      <th>non-neighbor weekday</th>\n",
       "      <th>non-neighbor weekend</th>\n",
       "    </tr>\n",
       "  </thead>\n",
       "  <tbody>\n",
       "    <tr>\n",
       "      <th>0</th>\n",
       "      <td>6081607000</td>\n",
       "      <td>171</td>\n",
       "      <td>0.766082</td>\n",
       "      <td>0.479532</td>\n",
       "      <td>0.286550</td>\n",
       "      <td>0.532164</td>\n",
       "      <td>0.233918</td>\n",
       "      <td>0.017544</td>\n",
       "      <td>0.017544</td>\n",
       "      <td>0.000000</td>\n",
       "      <td>0.011696</td>\n",
       "      <td>0.005848</td>\n",
       "      <td>0.216374</td>\n",
       "      <td>0.058480</td>\n",
       "      <td>0.157895</td>\n",
       "      <td>0.169591</td>\n",
       "      <td>0.046784</td>\n",
       "    </tr>\n",
       "    <tr>\n",
       "      <th>1</th>\n",
       "      <td>6001408000</td>\n",
       "      <td>7580</td>\n",
       "      <td>0.493008</td>\n",
       "      <td>0.289050</td>\n",
       "      <td>0.203958</td>\n",
       "      <td>0.431530</td>\n",
       "      <td>0.061478</td>\n",
       "      <td>0.086939</td>\n",
       "      <td>0.045119</td>\n",
       "      <td>0.041821</td>\n",
       "      <td>0.073615</td>\n",
       "      <td>0.013325</td>\n",
       "      <td>0.420053</td>\n",
       "      <td>0.203430</td>\n",
       "      <td>0.216623</td>\n",
       "      <td>0.236675</td>\n",
       "      <td>0.183377</td>\n",
       "    </tr>\n",
       "    <tr>\n",
       "      <th>2</th>\n",
       "      <td>6013354001</td>\n",
       "      <td>102</td>\n",
       "      <td>0.696078</td>\n",
       "      <td>0.352941</td>\n",
       "      <td>0.343137</td>\n",
       "      <td>0.598039</td>\n",
       "      <td>0.098039</td>\n",
       "      <td>0.078431</td>\n",
       "      <td>0.009804</td>\n",
       "      <td>0.068627</td>\n",
       "      <td>0.019608</td>\n",
       "      <td>0.058824</td>\n",
       "      <td>0.225490</td>\n",
       "      <td>0.058824</td>\n",
       "      <td>0.166667</td>\n",
       "      <td>0.107843</td>\n",
       "      <td>0.117647</td>\n",
       "    </tr>\n",
       "    <tr>\n",
       "      <th>3</th>\n",
       "      <td>6013354002</td>\n",
       "      <td>2934</td>\n",
       "      <td>0.799591</td>\n",
       "      <td>0.497614</td>\n",
       "      <td>0.301977</td>\n",
       "      <td>0.580095</td>\n",
       "      <td>0.219496</td>\n",
       "      <td>0.048398</td>\n",
       "      <td>0.018746</td>\n",
       "      <td>0.029652</td>\n",
       "      <td>0.036469</td>\n",
       "      <td>0.011929</td>\n",
       "      <td>0.152011</td>\n",
       "      <td>0.079755</td>\n",
       "      <td>0.072256</td>\n",
       "      <td>0.097819</td>\n",
       "      <td>0.054192</td>\n",
       "    </tr>\n",
       "    <tr>\n",
       "      <th>4</th>\n",
       "      <td>6075016400</td>\n",
       "      <td>9518</td>\n",
       "      <td>0.418050</td>\n",
       "      <td>0.225573</td>\n",
       "      <td>0.192477</td>\n",
       "      <td>0.279260</td>\n",
       "      <td>0.138790</td>\n",
       "      <td>0.084997</td>\n",
       "      <td>0.041921</td>\n",
       "      <td>0.043076</td>\n",
       "      <td>0.054528</td>\n",
       "      <td>0.030469</td>\n",
       "      <td>0.496953</td>\n",
       "      <td>0.186174</td>\n",
       "      <td>0.310780</td>\n",
       "      <td>0.367724</td>\n",
       "      <td>0.129229</td>\n",
       "    </tr>\n",
       "  </tbody>\n",
       "</table>\n",
       "</div>"
      ],
      "text/plain": [
       "        Tract  total      home  home day  home night  home weekday  \\\n",
       "0  6081607000    171  0.766082  0.479532    0.286550      0.532164   \n",
       "1  6001408000   7580  0.493008  0.289050    0.203958      0.431530   \n",
       "2  6013354001    102  0.696078  0.352941    0.343137      0.598039   \n",
       "3  6013354002   2934  0.799591  0.497614    0.301977      0.580095   \n",
       "4  6075016400   9518  0.418050  0.225573    0.192477      0.279260   \n",
       "\n",
       "   home weekend  neighbor  neighbor day  neighbor night  neighbor weekday  \\\n",
       "0      0.233918  0.017544      0.017544        0.000000          0.011696   \n",
       "1      0.061478  0.086939      0.045119        0.041821          0.073615   \n",
       "2      0.098039  0.078431      0.009804        0.068627          0.019608   \n",
       "3      0.219496  0.048398      0.018746        0.029652          0.036469   \n",
       "4      0.138790  0.084997      0.041921        0.043076          0.054528   \n",
       "\n",
       "   neighbor weekend  non-neighbor  non-neighbor day  non-neighbor night  \\\n",
       "0          0.005848      0.216374          0.058480            0.157895   \n",
       "1          0.013325      0.420053          0.203430            0.216623   \n",
       "2          0.058824      0.225490          0.058824            0.166667   \n",
       "3          0.011929      0.152011          0.079755            0.072256   \n",
       "4          0.030469      0.496953          0.186174            0.310780   \n",
       "\n",
       "   non-neighbor weekday  non-neighbor weekend  \n",
       "0              0.169591              0.046784  \n",
       "1              0.236675              0.183377  \n",
       "2              0.107843              0.117647  \n",
       "3              0.097819              0.054192  \n",
       "4              0.367724              0.129229  "
      ]
     },
     "execution_count": 14,
     "metadata": {},
     "output_type": "execute_result"
    }
   ],
   "source": [
    "percentFrame = percentFrame.rename({\"Unnamed: 0\" : \"Tract\",  \"tract\" : \"total\"}, axis='columns')\n",
    "percentFrame[\"Tract\"] = data[\"tract\"]\n",
    "percentFrame[\"total\"] = total\n",
    "percentFrame = percentFrame.fillna(0)\n",
    "percentFrame.head()"
   ]
  },
  {
   "cell_type": "code",
   "execution_count": 18,
   "metadata": {
    "collapsed": true
   },
   "outputs": [],
   "source": [
    "percentFrame.to_csv(\"Percent_for_10_million.csv\")"
   ]
  },
  {
   "cell_type": "code",
   "execution_count": 16,
   "metadata": {},
   "outputs": [
    {
     "data": {
      "text/plain": [
       "6724876"
      ]
     },
     "execution_count": 16,
     "metadata": {},
     "output_type": "execute_result"
    }
   ],
   "source": [
    "sum(percentFrame[\"total\"])"
   ]
  },
  {
   "cell_type": "code",
   "execution_count": null,
   "metadata": {
    "collapsed": true
   },
   "outputs": [],
   "source": []
  }
 ],
 "metadata": {
  "kernelspec": {
   "display_name": "Python 3",
   "language": "python",
   "name": "python3"
  },
  "language_info": {
   "codemirror_mode": {
    "name": "ipython",
    "version": 3
   },
   "file_extension": ".py",
   "mimetype": "text/x-python",
   "name": "python",
   "nbconvert_exporter": "python",
   "pygments_lexer": "ipython3",
   "version": "3.6.3"
  }
 },
 "nbformat": 4,
 "nbformat_minor": 2
}
