{
 "cells": [
  {
   "cell_type": "code",
   "execution_count": 190,
   "metadata": {
    "collapsed": true
   },
   "outputs": [],
   "source": [
    "import pandas as pd\n",
    "import numpy as np"
   ]
  },
  {
   "cell_type": "code",
   "execution_count": 191,
   "metadata": {
    "collapsed": true
   },
   "outputs": [],
   "source": [
    "# Read the data fil\n",
    "sf_twitter = pd.read_csv(\"xaa\")"
   ]
  },
  {
   "cell_type": "code",
   "execution_count": 192,
   "metadata": {
    "collapsed": true
   },
   "outputs": [],
   "source": [
    "# #Task 1: Compare full set of tweets at the census tract level to those with home location to \n",
    "#see differences/bias in spatial distribution.\n",
    "\n",
    "#1.a Tracts with a greater/lesser share of all tweets vs home location tweets.\n",
    "total_twitter = len(sf_twitter)\n",
    "total_not_null_twitter = sf_twitter[\"home_tract\"].count()\n",
    "\n",
    "def count_percent(series):\n",
    "    return len(series)/total_twitter\n",
    "\n",
    "def count_nulls_total(series):\n",
    "    return series.count()/total_not_null_twitter\n",
    "\n",
    "\n",
    "tract_compare = sf_twitter.groupby(\"tract\").aggregate({\"tract\": count_percent, \"home_tract\":count_nulls_total})\n",
    "#tract_compare.sort_values(by = [\"tract\",\"home_tract\"], ascending = False, inplace = True)\n",
    "tract_compare.rename(index = str, columns = {\"tract\":\"percent_of_twitter\", \"home_tract\":\"percent_of_twitter_with_ht\"}, inplace = True)"
   ]
  },
  {
   "cell_type": "code",
   "execution_count": 193,
   "metadata": {
    "collapsed": true
   },
   "outputs": [],
   "source": [
    "tract_compare.to_csv(\"tract_compare\")"
   ]
  },
  {
   "cell_type": "code",
   "execution_count": 194,
   "metadata": {
    "collapsed": true
   },
   "outputs": [],
   "source": [
    "# Select tract with heavy concentration\n",
    "index_list = []\n",
    "for i in range(len(tract_compare)):\n",
    "    row = tract_compare.iloc[i,]\n",
    "    twitter = row[\"percent_of_twitter\"]\n",
    "    twitter_with_ht = row[\"percent_of_twitter_with_ht\"]\n",
    "    if (twitter_with_ht >= twitter):\n",
    "        index_list.append(i)\n"
   ]
  },
  {
   "cell_type": "code",
   "execution_count": 195,
   "metadata": {
    "collapsed": true
   },
   "outputs": [],
   "source": [
    "tract_heavy_concentrate_on_home = tract_compare.iloc[index_list,]"
   ]
  },
  {
   "cell_type": "code",
   "execution_count": 196,
   "metadata": {
    "collapsed": true
   },
   "outputs": [],
   "source": [
    "tract_heavy_concentrate_on_home.to_csv(\"tract_heavy_concentrate_on_home\")"
   ]
  },
  {
   "cell_type": "code",
   "execution_count": 197,
   "metadata": {
    "collapsed": true
   },
   "outputs": [],
   "source": [
    "#Select tract with low concentration\n",
    "index_list = []\n",
    "for i in range(len(tract_compare)):\n",
    "    row = tract_compare.iloc[i,]\n",
    "    twitter = row[\"percent_of_twitter\"]\n",
    "    twitter_with_ht = row[\"percent_of_twitter_with_ht\"]\n",
    "    if (twitter_with_ht < twitter):\n",
    "        index_list.append(i)\n"
   ]
  },
  {
   "cell_type": "code",
   "execution_count": 198,
   "metadata": {
    "collapsed": true
   },
   "outputs": [],
   "source": [
    "tract_low_concentrate_on_home = tract_compare.iloc[index_list,]"
   ]
  },
  {
   "cell_type": "code",
   "execution_count": 199,
   "metadata": {
    "collapsed": true
   },
   "outputs": [],
   "source": [
    "tract_low_concentrate_on_home.to_csv(\"tract_low_concentrate_on_home\")"
   ]
  },
  {
   "cell_type": "code",
   "execution_count": 162,
   "metadata": {
    "collapsed": true
   },
   "outputs": [],
   "source": [
    "# #Task 1: Compare full set of tweets at the census tract level to those with home location to \n",
    "#see differences/bias in spatial distribution.\n",
    "\n",
    "#1.b by tract, % of tweets missing home_tract\n",
    "def count_nulls(series):\n",
    "    return (len(series) - series.count())/len(series)\n",
    "\n",
    "\n",
    "miss_home_by_tract = sf_twitter.groupby(\"tract\").aggregate({\"home_tract\": count_nulls})\n",
    "miss_home_by_tract.sort_values(by = \"home_tract\", ascending = False, inplace = True)"
   ]
  },
  {
   "cell_type": "code",
   "execution_count": 163,
   "metadata": {
    "collapsed": true
   },
   "outputs": [],
   "source": [
    "miss_home_by_tract.index = (miss_home_by_tract.index).astype(\"long\")"
   ]
  },
  {
   "cell_type": "code",
   "execution_count": 164,
   "metadata": {
    "collapsed": true
   },
   "outputs": [],
   "source": [
    "miss_home_by_tract.to_csv(\"miss_home_by_tract\")"
   ]
  },
  {
   "cell_type": "code",
   "execution_count": 165,
   "metadata": {
    "collapsed": true
   },
   "outputs": [],
   "source": [
    "#Task 2: Summarize distribution of tweets by user -- \n",
    "# of users with more than 5 tweets in a \n",
    "#tract and compare to overall distribution.\n",
    "\n",
    "# Build a table for check user's tweets number reference\n",
    "reference = sf_twitter.groupby(\"u_id\").aggregate({\"id\":\"count\"})\n",
    "reference.rename(index = float, columns = {\"id\":\"count\"}, inplace = True)\n",
    "\n",
    "\n",
    "# % of twetters tweet in a tract\n",
    "total_id = len(set(sf_twitter[\"u_id\"]))\n",
    "\n",
    "def count_id_percent(series):\n",
    "    series_id = len(set(series))\n",
    "    result = series_id/total_id\n",
    "    return result\n",
    "\n",
    "# % of twetters tweet in a tract with more than 5 tweets\n",
    "more_than_five_num = 0\n",
    "for i in range(len(reference)):\n",
    "    if reference[\"count\"].iloc[i,] > 5:\n",
    "        more_than_five_num += 1\n",
    "\n",
    "def count_more_than_5(series):\n",
    "    num = 0\n",
    "    check = series.values\n",
    "    for i in range(len(check)):\n",
    "        user = check[i]\n",
    "        if reference.loc[user,\"count\"] > 5:\n",
    "            num += 1        \n",
    "    return num/more_than_five_num\n",
    "\n",
    "\n",
    "tweets_by_user = sf_twitter.groupby(\"tract\").aggregate({\"u_id\":[count_id_percent,count_more_than_5]})"
   ]
  },
  {
   "cell_type": "code",
   "execution_count": 166,
   "metadata": {
    "collapsed": true
   },
   "outputs": [],
   "source": [
    "tweets_by_user.columns = [\"percent_of_users\", \"percent_of_users_5_tweets\"]"
   ]
  },
  {
   "cell_type": "code",
   "execution_count": 167,
   "metadata": {
    "scrolled": true
   },
   "outputs": [
    {
     "name": "stderr",
     "output_type": "stream",
     "text": [
      "/Users/yurika/anaconda3/lib/python3.6/site-packages/ipykernel_launcher.py:11: SettingWithCopyWarning: \n",
      "A value is trying to be set on a copy of a slice from a DataFrame.\n",
      "Try using .loc[row_indexer,col_indexer] = value instead\n",
      "\n",
      "See the caveats in the documentation: http://pandas.pydata.org/pandas-docs/stable/indexing.html#indexing-view-versus-copy\n",
      "  # This is added back by InteractiveShellApp.init_path()\n"
     ]
    }
   ],
   "source": [
    "#Task 3: Use just tweets with home locations, summary statistics number and odds ratio by times\n",
    "# an odd ratio is the share of tweets in a tract in the time period (say, 10%) divided by the \n",
    "# tract's overall sharing of regional tweets\n",
    "\n",
    "#Drop all of these data with na values in home_tract\n",
    "home_not_null = sf_twitter.dropna(subset=['home_tract'])\n",
    "\n",
    "\n",
    "#3.a Hours (0:00 to 23:00) – 24 time periods\n",
    "#Assign the time in hour for each tweet\n",
    "home_not_null[\"hour\"] = home_not_null[\"date\"].str[11:13]\n",
    "hour_count = home_not_null.groupby([\"tract\", \"hour\"]).aggregate({\"id\":\"count\"})\n",
    "hour_count.rename(index = str, columns = {\"id\":\"count\"}, inplace = True)\n",
    "hour_helper = home_not_null.groupby([\"tract\"]).aggregate({\"id\":\"count\"})\n",
    "\n"
   ]
  },
  {
   "cell_type": "code",
   "execution_count": 168,
   "metadata": {
    "collapsed": true
   },
   "outputs": [],
   "source": [
    "hour_odd_ratio = []\n",
    "for i in range(len(hour_count.index)):\n",
    "    index = float(hour_count.index[i][0])\n",
    "    total = hour_helper.loc[index, ].values[0]\n",
    "    odd_ratio = hour_count[\"count\"][i] / total\n",
    "    hour_odd_ratio.append(odd_ratio)"
   ]
  },
  {
   "cell_type": "code",
   "execution_count": 169,
   "metadata": {
    "collapsed": true
   },
   "outputs": [],
   "source": [
    "hour_count[\"odd_ratio\"] = hour_odd_ratio"
   ]
  },
  {
   "cell_type": "code",
   "execution_count": 170,
   "metadata": {
    "collapsed": true
   },
   "outputs": [],
   "source": [
    "hour_count.to_csv(\"summary_number_and_odd_ratios_by_tract_and_hour\")"
   ]
  },
  {
   "cell_type": "code",
   "execution_count": 171,
   "metadata": {},
   "outputs": [
    {
     "name": "stderr",
     "output_type": "stream",
     "text": [
      "/Users/yurika/anaconda3/lib/python3.6/site-packages/ipykernel_launcher.py:5: SettingWithCopyWarning: \n",
      "A value is trying to be set on a copy of a slice from a DataFrame.\n",
      "Try using .loc[row_indexer,col_indexer] = value instead\n",
      "\n",
      "See the caveats in the documentation: http://pandas.pydata.org/pandas-docs/stable/indexing.html#indexing-view-versus-copy\n",
      "  \"\"\"\n",
      "/Users/yurika/anaconda3/lib/python3.6/site-packages/ipykernel_launcher.py:6: SettingWithCopyWarning: \n",
      "A value is trying to be set on a copy of a slice from a DataFrame.\n",
      "Try using .loc[row_indexer,col_indexer] = value instead\n",
      "\n",
      "See the caveats in the documentation: http://pandas.pydata.org/pandas-docs/stable/indexing.html#indexing-view-versus-copy\n",
      "  \n"
     ]
    }
   ],
   "source": [
    "#3.b Days (Mon-Sun) – seven time periods\n",
    "# Monday is 0 and Sunday is 6\n",
    "\n",
    "#Create the weekday object\n",
    "home_not_null[\"date_helper\"] = home_not_null[\"date\"].str[0:10]\n",
    "home_not_null['date_object'] =  pd.to_datetime(home_not_null['date_helper'], format='%Y-%m-%d')\n",
    "\n",
    "check_weekday = []\n",
    "for item in home_not_null[\"date_object\"]:\n",
    "    helper = item.weekday()\n",
    "    check_weekday.append(helper)"
   ]
  },
  {
   "cell_type": "code",
   "execution_count": 172,
   "metadata": {},
   "outputs": [
    {
     "name": "stderr",
     "output_type": "stream",
     "text": [
      "/Users/yurika/anaconda3/lib/python3.6/site-packages/ipykernel_launcher.py:2: SettingWithCopyWarning: \n",
      "A value is trying to be set on a copy of a slice from a DataFrame.\n",
      "Try using .loc[row_indexer,col_indexer] = value instead\n",
      "\n",
      "See the caveats in the documentation: http://pandas.pydata.org/pandas-docs/stable/indexing.html#indexing-view-versus-copy\n",
      "  \n"
     ]
    }
   ],
   "source": [
    "#Assign weekday to the data\n",
    "home_not_null[\"weekday\"] = check_weekday"
   ]
  },
  {
   "cell_type": "code",
   "execution_count": 173,
   "metadata": {
    "collapsed": true
   },
   "outputs": [],
   "source": [
    "weekday_count = home_not_null.groupby([\"tract\", \"weekday\"]).aggregate({\"id\":\"count\"})\n",
    "weekday_count.rename(index = str, columns = {\"id\":\"count\"}, inplace = True)\n",
    "\n"
   ]
  },
  {
   "cell_type": "code",
   "execution_count": 174,
   "metadata": {
    "collapsed": true
   },
   "outputs": [],
   "source": [
    "weekday_odd_ratio = []\n",
    "for i in range(len(weekday_count.index)):\n",
    "    index = float(weekday_count.index[i][0])\n",
    "    total = hour_helper.loc[index, ].values[0]\n",
    "    odd_ratio = weekday_count[\"count\"][i] / total\n",
    "    weekday_odd_ratio.append(odd_ratio)"
   ]
  },
  {
   "cell_type": "code",
   "execution_count": 175,
   "metadata": {
    "collapsed": true
   },
   "outputs": [],
   "source": [
    "weekday_count[\"odd_ratio\"] = weekday_odd_ratio"
   ]
  },
  {
   "cell_type": "code",
   "execution_count": 176,
   "metadata": {
    "collapsed": true
   },
   "outputs": [],
   "source": [
    "weekday_count.to_csv(\"summary_number_and_odd_ratios_by_tract_and_weekday\")"
   ]
  },
  {
   "cell_type": "code",
   "execution_count": 177,
   "metadata": {},
   "outputs": [
    {
     "name": "stderr",
     "output_type": "stream",
     "text": [
      "/Users/yurika/anaconda3/lib/python3.6/site-packages/ipykernel_launcher.py:2: SettingWithCopyWarning: \n",
      "A value is trying to be set on a copy of a slice from a DataFrame.\n",
      "Try using .loc[row_indexer,col_indexer] = value instead\n",
      "\n",
      "See the caveats in the documentation: http://pandas.pydata.org/pandas-docs/stable/indexing.html#indexing-view-versus-copy\n",
      "  \n"
     ]
    }
   ],
   "source": [
    "#3.c day (4:00 – 18:00), evening/night (18:00 to 04:00)\n",
    "home_not_null[\"hour_check\"] = home_not_null[\"hour\"].str.replace(\"0\", \"\")"
   ]
  },
  {
   "cell_type": "code",
   "execution_count": 178,
   "metadata": {},
   "outputs": [
    {
     "name": "stderr",
     "output_type": "stream",
     "text": [
      "/Users/yurika/anaconda3/lib/python3.6/site-packages/pandas/core/indexing.py:517: SettingWithCopyWarning: \n",
      "A value is trying to be set on a copy of a slice from a DataFrame.\n",
      "Try using .loc[row_indexer,col_indexer] = value instead\n",
      "\n",
      "See the caveats in the documentation: http://pandas.pydata.org/pandas-docs/stable/indexing.html#indexing-view-versus-copy\n",
      "  self.obj[item] = s\n"
     ]
    }
   ],
   "source": [
    "# Change the empty string resulting from replacing all 0 in 00\n",
    "home_not_null.loc[home_not_null[\"hour_check\"] == '',\"hour_check\"] = \"00\""
   ]
  },
  {
   "cell_type": "code",
   "execution_count": 179,
   "metadata": {},
   "outputs": [
    {
     "name": "stderr",
     "output_type": "stream",
     "text": [
      "/Users/yurika/anaconda3/lib/python3.6/site-packages/ipykernel_launcher.py:1: SettingWithCopyWarning: \n",
      "A value is trying to be set on a copy of a slice from a DataFrame.\n",
      "Try using .loc[row_indexer,col_indexer] = value instead\n",
      "\n",
      "See the caveats in the documentation: http://pandas.pydata.org/pandas-docs/stable/indexing.html#indexing-view-versus-copy\n",
      "  \"\"\"Entry point for launching an IPython kernel.\n"
     ]
    }
   ],
   "source": [
    "home_not_null[\"hour_check\"] = (home_not_null[\"hour_check\"]).astype(\"int\")"
   ]
  },
  {
   "cell_type": "code",
   "execution_count": 180,
   "metadata": {
    "collapsed": true
   },
   "outputs": [],
   "source": [
    "# 1 represents day and 0 represents evening\n",
    "day_or_evening = []\n",
    "\n",
    "for i in range(len(home_not_null[\"hour_check\"])):\n",
    "    if (home_not_null[\"hour_check\"].iloc[i,] > 4) and (home_not_null[\"hour_check\"].iloc[i,] < 18):\n",
    "        day_or_evening.append(1)\n",
    "    else:\n",
    "        day_or_evening.append(0)"
   ]
  },
  {
   "cell_type": "code",
   "execution_count": 181,
   "metadata": {},
   "outputs": [
    {
     "name": "stderr",
     "output_type": "stream",
     "text": [
      "/Users/yurika/anaconda3/lib/python3.6/site-packages/ipykernel_launcher.py:2: SettingWithCopyWarning: \n",
      "A value is trying to be set on a copy of a slice from a DataFrame.\n",
      "Try using .loc[row_indexer,col_indexer] = value instead\n",
      "\n",
      "See the caveats in the documentation: http://pandas.pydata.org/pandas-docs/stable/indexing.html#indexing-view-versus-copy\n",
      "  \n"
     ]
    }
   ],
   "source": [
    "# Perform groupby operation for summary statistics\n",
    "home_not_null[\"day_or_evening\"] = day_or_evening\n",
    "day_or_evening_count = home_not_null.groupby([\"tract\", \"day_or_evening\"]).aggregate({\"id\":\"count\"})\n",
    "day_or_evening_count.rename(index = str, columns = {\"id\":\"count\"}, inplace = True)"
   ]
  },
  {
   "cell_type": "code",
   "execution_count": 182,
   "metadata": {
    "collapsed": true
   },
   "outputs": [],
   "source": [
    "day_evening_odd_ratio = []\n",
    "for i in range(len(day_or_evening_count.index)):\n",
    "    index = float(day_or_evening_count.index[i][0])\n",
    "    total = hour_helper.loc[index, ].values[0]\n",
    "    odd_ratio = day_or_evening_count[\"count\"][i] / total\n",
    "    day_evening_odd_ratio.append(odd_ratio)"
   ]
  },
  {
   "cell_type": "code",
   "execution_count": 183,
   "metadata": {
    "collapsed": true
   },
   "outputs": [],
   "source": [
    "day_or_evening_count[\"odd_ratio\"] = day_evening_odd_ratio"
   ]
  },
  {
   "cell_type": "code",
   "execution_count": 184,
   "metadata": {
    "collapsed": true
   },
   "outputs": [],
   "source": [
    "day_or_evening_count.to_csv(\"summary_number_and_odd_ratios_by_tract_and_dayevening\")"
   ]
  },
  {
   "cell_type": "code",
   "execution_count": 185,
   "metadata": {
    "collapsed": true
   },
   "outputs": [],
   "source": [
    "#3.d weekday (Mon-Fri (until 18:00)); weekend (starting 18:00 on Friday until 4:00 on Monday)\n",
    "# 1 stands for weekday and 0 stands for weekend\n",
    "\n",
    "week_weekend = []\n",
    "for i in range(len(home_not_null)):\n",
    "    day = home_not_null[\"weekday\"].iloc[i,]\n",
    "    hour = home_not_null[\"hour_check\"].iloc[i,]\n",
    "    if day > 0 and day < 4:\n",
    "        week_weekend.append(1)\n",
    "    if day >= 5 and day <= 6:\n",
    "        week_weekend.append(0)\n",
    "    if day == 4:\n",
    "        if hour >= 0 and hour <= 18:\n",
    "            week_weekend.append(1)\n",
    "        else:\n",
    "            week_weekend.append(0)\n",
    "    if day == 0:\n",
    "        if hour >= 0 and hour <= 4:\n",
    "            week_weekend.append(0)\n",
    "        else:\n",
    "            week_weekend.append(1)\n",
    "\n"
   ]
  },
  {
   "cell_type": "code",
   "execution_count": 186,
   "metadata": {},
   "outputs": [
    {
     "name": "stderr",
     "output_type": "stream",
     "text": [
      "/Users/yurika/anaconda3/lib/python3.6/site-packages/ipykernel_launcher.py:1: SettingWithCopyWarning: \n",
      "A value is trying to be set on a copy of a slice from a DataFrame.\n",
      "Try using .loc[row_indexer,col_indexer] = value instead\n",
      "\n",
      "See the caveats in the documentation: http://pandas.pydata.org/pandas-docs/stable/indexing.html#indexing-view-versus-copy\n",
      "  \"\"\"Entry point for launching an IPython kernel.\n"
     ]
    }
   ],
   "source": [
    "home_not_null[\"week_weekend\"] = week_weekend"
   ]
  },
  {
   "cell_type": "code",
   "execution_count": 187,
   "metadata": {
    "collapsed": true
   },
   "outputs": [],
   "source": [
    "week_or_weekend_count = home_not_null.groupby([\"tract\", \"week_weekend\"]).aggregate({\"id\":\"count\"})\n",
    "week_or_weekend_count.rename(index = str, columns = {\"id\":\"count\"}, inplace = True)"
   ]
  },
  {
   "cell_type": "code",
   "execution_count": 188,
   "metadata": {
    "collapsed": true
   },
   "outputs": [],
   "source": [
    "week_or_weekend_odd_ratio = []\n",
    "for i in range(len(week_or_weekend_count.index)):\n",
    "    index = float(week_or_weekend_count.index[i][0])\n",
    "    total = hour_helper.loc[index, ].values[0]\n",
    "    odd_ratio = week_or_weekend_count[\"count\"][i] / total\n",
    "    week_or_weekend_odd_ratio.append(odd_ratio)"
   ]
  },
  {
   "cell_type": "code",
   "execution_count": 189,
   "metadata": {
    "collapsed": true
   },
   "outputs": [],
   "source": [
    "week_or_weekend_count[\"odd_ratio\"] = week_or_weekend_odd_ratio"
   ]
  },
  {
   "cell_type": "code",
   "execution_count": 113,
   "metadata": {
    "collapsed": true
   },
   "outputs": [],
   "source": [
    "week_or_weekend_count.to_csv(\"summary_number_and_odd_ratios_by_tract_and_weekday_weekend\")"
   ]
  },
  {
   "cell_type": "code",
   "execution_count": null,
   "metadata": {
    "collapsed": true
   },
   "outputs": [],
   "source": []
  }
 ],
 "metadata": {
  "kernelspec": {
   "display_name": "Python 3",
   "language": "python",
   "name": "python3"
  },
  "language_info": {
   "codemirror_mode": {
    "name": "ipython",
    "version": 3
   },
   "file_extension": ".py",
   "mimetype": "text/x-python",
   "name": "python",
   "nbconvert_exporter": "python",
   "pygments_lexer": "ipython3",
   "version": "3.6.3"
  }
 },
 "nbformat": 4,
 "nbformat_minor": 2
}
