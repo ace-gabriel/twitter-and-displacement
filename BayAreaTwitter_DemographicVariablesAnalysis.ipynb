{
 "cells": [
  {
   "cell_type": "code",
   "execution_count": 1,
   "metadata": {
    "deletable": false
   },
   "outputs": [],
   "source": [
    "Name= 'Catherine Bui'\n",
    "Organization= 'Center For Community Innovation'\n",
    "Project= 'Twitter Displacement Study'"
   ]
  },
  {
   "cell_type": "code",
   "execution_count": 1,
   "metadata": {},
   "outputs": [
    {
     "name": "stdout",
     "output_type": "stream",
     "text": [
      "CPU times: user 1.71 s, sys: 300 ms, total: 2.01 s\n",
      "Wall time: 3.06 s\n"
     ]
    }
   ],
   "source": [
    "%%time\n",
    "import pandas as pd\n",
    "import matplotlib.pyplot as plt\n",
    "from scipy import stats\n",
    "import subprocess\n",
    "from pathlib import Path\n",
    "import csv\n",
    "import sqlalchemy\n",
    "from sqlalchemy.ext.automap import automap_base\n",
    "from sqlalchemy.orm import Session\n",
    "import xlrd\n",
    "import numpy as np\n",
    "from io import StringIO\n",
    "from sqlalchemy import create_engine\n",
    "from sqlalchemy.ext.declarative import declarative_base\n",
    "from sqlalchemy import Column, Integer, String, Numeric\n",
    "from sqlalchemy.orm import sessionmaker\n",
    "import dask.dataframe as das\n",
    "import sqlite3\n",
    "import datetime\n",
    "\n"
   ]
  },
  {
   "cell_type": "markdown",
   "metadata": {},
   "source": [
    "### READING THE CSV FILE \n",
    "1. Clean and prepare the data"
   ]
  },
  {
   "cell_type": "code",
   "execution_count": 19,
   "metadata": {},
   "outputs": [
    {
     "name": "stdout",
     "output_type": "stream",
     "text": [
      "CPU times: user 76 ms, sys: 16 ms, total: 92 ms\n",
      "Wall time: 87.7 ms\n"
     ]
    }
   ],
   "source": [
    "%%time\n",
    "file = \"/scratch/public/catherinebui/sf_with_homeloc_one_tweet_per_day.csv\"\n",
    "df = das.read_csv(file)\n",
    "df = df.rename(columns = {'sf_with_homeloc.csv': 'id'})"
   ]
  },
  {
   "cell_type": "code",
   "execution_count": 22,
   "metadata": {},
   "outputs": [],
   "source": [
    "#Dropping Nan values\n",
    "df=df.dropna(subset = ['home_tract'])\n",
    "df = df.dropna(subset= ['tract'])\n",
    "df['tract'] = df['tract'].astype('int')\n",
    "df['home_tract'] = df['home_tract'].astype('int')"
   ]
  },
  {
   "cell_type": "code",
   "execution_count": 5,
   "metadata": {},
   "outputs": [],
   "source": [
    "#Creating the neigbhor binary variable for each tweet \n",
    "\n",
    "#Creating a map of neigbhors to the source tract\n",
    "sf_nn = pd.read_csv('BayArea_nearest_neighbor.csv')\n",
    "def neighbors(src):\n",
    "    for i in sf_nn['SRC_GEO_FI'].unique():\n",
    "        if i == src:\n",
    "            table=sf_nn[sf_nn['SRC_GEO_FI'] == i]\n",
    "            return np.array(table['NBR_GEO_FI'])\n",
    "    return []\n",
    "n_ = []\n",
    "for i in sf_nn['SRC_GEO_FI'].unique():\n",
    "    n_.append(neighbors(i))\n",
    "nn = pd.DataFrame(sf_nn['SRC_GEO_FI'].unique()) \n",
    "nn['neighbors'] = n_\n",
    "nn = nn.rename(columns = {0: 'SRC_GEO_FI'})\n",
    "neighbormap = dict(zip(nn['SRC_GEO_FI'], nn['neighbors']))\n",
    "\n",
    "#Function that adds a 1 or 0 to each tweet if a tract is a neighbor or not of home_tract\n",
    "def neighbor_check(x):\n",
    "    if np.any(neighbormap.get(x['home_tract']) != None): \n",
    "        if x['tract'] in neighbormap.get(x['home_tract']):\n",
    "            return 1\n",
    "        else:\n",
    "            return 0\n",
    "    else:\n",
    "        return 0\n",
    "#Applying the neighbor_check to the dataframe\n",
    "df['neighbor'] = df.apply(lambda x: neighbor_check(x), axis = 1, meta = 'float64')\n",
    "\n",
    "#creating the non-neighbor table\n",
    "other = df[(df['neighbor'] == 0) & (df['tract'] != df['home_tract'])]"
   ]
  },
  {
   "cell_type": "code",
   "execution_count": 6,
   "metadata": {},
   "outputs": [],
   "source": [
    "demo_var = pd.read_csv('home_tract_variables.csv')"
   ]
  },
  {
   "cell_type": "code",
   "execution_count": 8,
   "metadata": {},
   "outputs": [],
   "source": [
    "demo_var = demo_var.rename(\n",
    "    columns = {'geo_fips': 'home_tract'})"
   ]
  },
  {
   "cell_type": "code",
   "execution_count": 9,
   "metadata": {},
   "outputs": [],
   "source": [
    "#Joining the non-neighbor table with the home tract variables csv (demo_var)\n",
    "other = other.merge(demo_var, on = 'home_tract', how = 'inner')"
   ]
  },
  {
   "cell_type": "markdown",
   "metadata": {},
   "source": [
    "## Aggregation: \n",
    "Creating csv files for all the numbers and percentages of tweets sent from non-neighbor users in a tract with specific demographic characteristics. "
   ]
  },
  {
   "cell_type": "code",
   "execution_count": 10,
   "metadata": {},
   "outputs": [
    {
     "name": "stdout",
     "output_type": "stream",
     "text": [
      "CPU times: user 50min 58s, sys: 4min 5s, total: 55min 3s\n",
      "Wall time: 48min 48s\n"
     ]
    }
   ],
   "source": [
    "%%time\n",
    "#aboverm_per_col15\n",
    "aboverm_per_col15 = other.groupby(['tract', 'aboverm_per_col15']).aggregate(\n",
    "    {'u_id': 'count'}).reset_index()\n",
    "aboverm_per_col15 = aboverm_per_col15.categorize(columns = 'aboverm_per_col15')\n",
    "aboverm_per_col15 = aboverm_per_col15.pivot_table(values = 'u_id',\n",
    "                                                 columns = 'aboverm_per_col15', \n",
    "                                                 index = 'tract')"
   ]
  },
  {
   "cell_type": "code",
   "execution_count": 164,
   "metadata": {},
   "outputs": [],
   "source": [
    "#Function to take the variable and return the csv of the counts of non-neighbor tweets with that condition\n",
    "def create_csv(demo_variable):\n",
    "    g = other.groupby(['tract', demo_variable]).aggregate(\n",
    "        {'u_id': 'count'}).reset_index()\n",
    "    g = g.categorize(columns = demo_variable)\n",
    "    g = g.pivot_table(values = 'u_id',\n",
    "                      columns = demo_variable, \n",
    "                      index = 'tract')\n",
    "    g.to_csv(demo_variable + '_*.csv')"
   ]
  },
  {
   "cell_type": "code",
   "execution_count": 165,
   "metadata": {},
   "outputs": [
    {
     "name": "stderr",
     "output_type": "stream",
     "text": [
      "ERROR:root:Internal Python error in the inspect module.\n",
      "Below is the traceback from this internal error.\n",
      "\n",
      "KeyboardInterrupt\n",
      "\n"
     ]
    }
   ],
   "source": [
    "%%time\n",
    "create_csv('aboverm_per_nonwhite15')\n"
   ]
  },
  {
   "cell_type": "code",
   "execution_count": 14,
   "metadata": {},
   "outputs": [
    {
     "name": "stdout",
     "output_type": "stream",
     "text": [
      "CPU times: user 1h 37min 19s, sys: 7min, total: 1h 44min 20s\n",
      "Wall time: 1h 32min 41s\n"
     ]
    }
   ],
   "source": [
    "%%time\n",
    "create_csv('aboverm_empd14')"
   ]
  },
  {
   "cell_type": "code",
   "execution_count": 15,
   "metadata": {},
   "outputs": [
    {
     "name": "stdout",
     "output_type": "stream",
     "text": [
      "CPU times: user 1h 35min 48s, sys: 6min 50s, total: 1h 42min 39s\n",
      "Wall time: 1h 31min 9s\n"
     ]
    }
   ],
   "source": [
    "%%time\n",
    "create_csv('aboverm_per_nhblk15')"
   ]
  },
  {
   "cell_type": "code",
   "execution_count": 16,
   "metadata": {},
   "outputs": [
    {
     "name": "stdout",
     "output_type": "stream",
     "text": [
      "CPU times: user 1h 34min 22s, sys: 6min 33s, total: 1h 40min 55s\n",
      "Wall time: 1h 29min 45s\n"
     ]
    }
   ],
   "source": [
    "%%time\n",
    "create_csv('aboverm_per_asian15')"
   ]
  },
  {
   "cell_type": "code",
   "execution_count": 17,
   "metadata": {},
   "outputs": [
    {
     "name": "stdout",
     "output_type": "stream",
     "text": [
      "CPU times: user 1h 35min 39s, sys: 6min 54s, total: 1h 42min 33s\n",
      "Wall time: 1h 31min 4s\n"
     ]
    }
   ],
   "source": [
    "%%time\n",
    "create_csv('aboverm_density15')"
   ]
  },
  {
   "cell_type": "code",
   "execution_count": 18,
   "metadata": {},
   "outputs": [
    {
     "name": "stdout",
     "output_type": "stream",
     "text": [
      "CPU times: user 1h 34min 50s, sys: 6min 41s, total: 1h 41min 32s\n",
      "Wall time: 1h 30min 15s\n"
     ]
    }
   ],
   "source": [
    "%%time\n",
    "create_csv('aboverm_per_hisp15')"
   ]
  },
  {
   "cell_type": "code",
   "execution_count": 19,
   "metadata": {},
   "outputs": [
    {
     "name": "stdout",
     "output_type": "stream",
     "text": [
      "CPU times: user 1h 34min 37s, sys: 6min 43s, total: 1h 41min 20s\n",
      "Wall time: 1h 30min 8s\n"
     ]
    }
   ],
   "source": [
    "%%time\n",
    "create_csv('LI_under80AMI')"
   ]
  },
  {
   "cell_type": "code",
   "execution_count": 20,
   "metadata": {},
   "outputs": [
    {
     "name": "stdout",
     "output_type": "stream",
     "text": [
      "CPU times: user 1h 34min 16s, sys: 6min 41s, total: 1h 40min 58s\n",
      "Wall time: 1h 29min 43s\n"
     ]
    }
   ],
   "source": [
    "%%time\n",
    "create_csv('HI_above120AMI')"
   ]
  },
  {
   "cell_type": "code",
   "execution_count": 21,
   "metadata": {},
   "outputs": [
    {
     "name": "stdout",
     "output_type": "stream",
     "text": [
      "CPU times: user 1h 34min 20s, sys: 6min 36s, total: 1h 40min 57s\n",
      "Wall time: 1h 29min 51s\n"
     ]
    }
   ],
   "source": [
    "%%time\n",
    "create_csv('MI_80_120AMI')"
   ]
  },
  {
   "cell_type": "code",
   "execution_count": 22,
   "metadata": {},
   "outputs": [
    {
     "name": "stdout",
     "output_type": "stream",
     "text": [
      "CPU times: user 1h 34min 28s, sys: 6min 41s, total: 1h 41min 9s\n",
      "Wall time: 1h 29min 56s\n"
     ]
    }
   ],
   "source": [
    "%%time\n",
    "create_csv('disp_type')"
   ]
  },
  {
   "cell_type": "code",
   "execution_count": 23,
   "metadata": {},
   "outputs": [
    {
     "name": "stdout",
     "output_type": "stream",
     "text": [
      "CPU times: user 46min 58s, sys: 3min 17s, total: 50min 16s\n",
      "Wall time: 44min 47s\n"
     ]
    },
    {
     "data": {
      "text/plain": [
       "['aboverm_per_col15_0.csv']"
      ]
     },
     "execution_count": 23,
     "metadata": {},
     "output_type": "execute_result"
    }
   ],
   "source": [
    "%%time\n",
    "aboverm_per_col15.to_csv('aboverm_per_col15_*.csv')"
   ]
  },
  {
   "cell_type": "code",
   "execution_count": 29,
   "metadata": {},
   "outputs": [
    {
     "data": {
      "text/plain": [
       "['aboverm_per_col15_0.csv',\n",
       " 'aboverm_per_nonwhite15_0.csv',\n",
       " 'aboverm_empd14_0.csv',\n",
       " 'aboverm_per_nhblk15_0.csv',\n",
       " 'aboverm_per_asian15_0.csv',\n",
       " 'aboverm_density15_0.csv',\n",
       " 'aboverm_per_hisp15_0.csv',\n",
       " 'disp_type_0.csv',\n",
       " 'LI_under80AMI_0.csv',\n",
       " 'HI_above120AMI_0.csv',\n",
       " 'MI_80_120AMI_0.csv']"
      ]
     },
     "execution_count": 29,
     "metadata": {},
     "output_type": "execute_result"
    }
   ],
   "source": [
    "[i + '_0.csv' for i in demo_var.columns if i != 'home_tract']"
   ]
  },
  {
   "cell_type": "markdown",
   "metadata": {},
   "source": [
    "## OUTPUT FILE\n",
    "Creating the final result table. \n",
    "\n",
    "Labeling the columns with its correct name\n",
    "\n",
    "Dividing the count by total tweets to get percentages"
   ]
  },
  {
   "cell_type": "code",
   "execution_count": 12,
   "metadata": {},
   "outputs": [],
   "source": [
    "col15 = pd.read_csv('aboverm_per_col15_0.csv') # 0 and 1\n",
    "nonwhite = pd.read_csv('aboverm_per_nonwhite15_0_1.csv') # 0 and 1\n",
    "empd = pd.read_csv( 'aboverm_empd14_0.csv') # 0 and 1\n",
    "nhblk = pd.read_csv( 'aboverm_per_nhblk15_0.csv') # 0 and 1\n",
    "asian = pd.read_csv('aboverm_per_asian15_0.csv') # 0 and 1\n",
    "density = pd.read_csv('aboverm_density15_0.csv') # 0 and 1\n",
    "hisp = pd.read_csv('aboverm_per_hisp15_0.csv') # 0 and 1\n",
    "disptype = pd.read_csv('disp_type_0.csv') # 9 variables\n",
    "under80 = pd.read_csv('LI_under80AMI_0.csv') # 0 and 1\n",
    "above120 = pd.read_csv('HI_above120AMI_0.csv') # 0 and 1\n",
    "MI = pd.read_csv('MI_80_120AMI_0.csv') # 0 and 1"
   ]
  },
  {
   "cell_type": "code",
   "execution_count": 13,
   "metadata": {},
   "outputs": [],
   "source": [
    "MI = MI[['tract', '1']]\n",
    "MI = MI.rename({'1': 'ct_othertweets_MI_80_120AMI'}, axis =1)\n",
    "above120 = above120[['tract', '1']].rename({'1': 'ct_othertweets_HI_above_120AMI'}, axis =1)\n",
    "under80 = under80[['tract', '1']].rename({'1': 'ct_othertweets_LI_under80AMI'}, axis =1)\n",
    "disptype.columns = ['tract'] + ['ct_othertweets_' + k for k in disptype.columns if k != 'tract']\n",
    "hisp = hisp.rename({'1.0': 'ct_othertweets_aboverm_per_hisp15', \n",
    "                   '0.0': 'ct_othertweets_underm_per_hisp15'}, axis =1)\n",
    "density = density.rename({'1': 'ct_othertweets_aboverm_density15', \n",
    "                   '0': 'ct_othertweets_underm_density15'}, axis =1)\n",
    "asian = asian.rename({'1.0': 'ct_othertweets_aboverm_per_asian15',\n",
    "                     '0.0': 'ct_othertweets_underm_per_asian15'}, axis =1)\n",
    "nhblk = nhblk.rename({'1.0': 'ct_othertweets_aboverm_per_nhblk15',\n",
    "                     '0.0': 'ct_othertweets_underm_per_nhblk15'}, axis = 1)\n",
    "empd = empd.rename({'1': 'ct_othertweets_aboverm_empd14', \n",
    "                   '0': 'ct_othertweets_underm_empd14'}, axis = 1)\n",
    "nonwhite = nonwhite.rename({'1.0': 'ct_othertweets_aboverm_per_nonwhite15',\n",
    "                     '0.0': 'ct_othertweets_underm_per_nonwhite15'}, axis = 1)\n",
    "col15 = col15.rename({'1.0': 'ct_othertweets_aboverm_per_col15',\n",
    "                     '0.0': 'ct_othertweets_underm_per_col15'}, axis =1)"
   ]
  },
  {
   "cell_type": "code",
   "execution_count": 14,
   "metadata": {},
   "outputs": [],
   "source": [
    "twitter_demo_sf= MI.merge(above120, on = 'tract', how = 'inner').merge(\n",
    "under80, on = 'tract', how ='inner').merge(\n",
    "disptype, on ='tract', how ='inner').merge(\n",
    "hisp, on ='tract', how ='inner').merge(\n",
    "density, on ='tract', how ='inner').merge(\n",
    "asian, on ='tract', how = 'inner').merge(\n",
    "nhblk, on = 'tract', how ='inner').merge(\n",
    "empd, on ='tract', how ='inner').merge(\n",
    "nonwhite, on ='tract', how = 'inner').merge(\n",
    "col15, on ='tract', how = 'inner')"
   ]
  },
  {
   "cell_type": "code",
   "execution_count": 15,
   "metadata": {},
   "outputs": [],
   "source": [
    "\n",
    "twitter_demo_sf = twitter_demo_sf.fillna(0)\n",
    "original = pd.read_excel('Twitter_SF_outputfile_8_21.xlsx')\n",
    "original = original[['tract', 'total tweets']]\n",
    "twitter_demo_sf = twitter_demo_sf.merge(original, on = 'tract', how = 'inner')\n",
    "for i in twitter_demo_sf.columns:\n",
    "    if i not in ['total tweets', 'tract']:\n",
    "        twitter_demo_sf['%_'+ i[2:len(i)]] = twitter_demo_sf[i]/twitter_demo_sf['total tweets']"
   ]
  },
  {
   "cell_type": "code",
   "execution_count": 21,
   "metadata": {},
   "outputs": [
    {
     "data": {
      "text/html": [
       "<div>\n",
       "<style scoped>\n",
       "    .dataframe tbody tr th:only-of-type {\n",
       "        vertical-align: middle;\n",
       "    }\n",
       "\n",
       "    .dataframe tbody tr th {\n",
       "        vertical-align: top;\n",
       "    }\n",
       "\n",
       "    .dataframe thead th {\n",
       "        text-align: right;\n",
       "    }\n",
       "</style>\n",
       "<table border=\"1\" class=\"dataframe\">\n",
       "  <thead>\n",
       "    <tr style=\"text-align: right;\">\n",
       "      <th></th>\n",
       "      <th>tract</th>\n",
       "      <th>ct_othertweets_MI_80_120AMI</th>\n",
       "      <th>ct_othertweets_HI_above_120AMI</th>\n",
       "      <th>ct_othertweets_LI_under80AMI</th>\n",
       "      <th>ct_othertweets_Advanced Gentrification</th>\n",
       "      <th>ct_othertweets_College Town</th>\n",
       "      <th>ct_othertweets_LI - At Risk of Gentrification and/or Displacement</th>\n",
       "      <th>ct_othertweets_LI - Not Losing Low Income Households or Very Early Stages of Gentrification/Displacement</th>\n",
       "      <th>ct_othertweets_LI - Ongoing Gentrification</th>\n",
       "      <th>ct_othertweets_LI - Undergoing Displacement</th>\n",
       "      <th>...</th>\n",
       "      <th>%__othertweets_aboverm_per_asian15</th>\n",
       "      <th>%__othertweets_underm_per_nhblk15</th>\n",
       "      <th>%__othertweets_aboverm_per_nhblk15</th>\n",
       "      <th>%__othertweets_underm_empd14</th>\n",
       "      <th>%__othertweets_aboverm_empd14</th>\n",
       "      <th>%__othertweets_underm_per_nonwhite15</th>\n",
       "      <th>%__othertweets_aboverm_per_nonwhite15</th>\n",
       "      <th>%__othertweets_underm_per_col15</th>\n",
       "      <th>%__othertweets_aboverm_per_col15</th>\n",
       "      <th>%_tal tweets</th>\n",
       "    </tr>\n",
       "  </thead>\n",
       "  <tbody>\n",
       "    <tr>\n",
       "      <th>0</th>\n",
       "      <td>6001400100</td>\n",
       "      <td>933.0</td>\n",
       "      <td>950.0</td>\n",
       "      <td>1061.0</td>\n",
       "      <td>128.0</td>\n",
       "      <td>131.0</td>\n",
       "      <td>227.0</td>\n",
       "      <td>553.0</td>\n",
       "      <td>600.0</td>\n",
       "      <td>89.0</td>\n",
       "      <td>...</td>\n",
       "      <td>0.173234</td>\n",
       "      <td>0.171450</td>\n",
       "      <td>0.261859</td>\n",
       "      <td>0.159554</td>\n",
       "      <td>0.278216</td>\n",
       "      <td>0.237026</td>\n",
       "      <td>0.196283</td>\n",
       "      <td>0.175167</td>\n",
       "      <td>0.258141</td>\n",
       "      <td>1.0</td>\n",
       "    </tr>\n",
       "    <tr>\n",
       "      <th>1</th>\n",
       "      <td>6001400200</td>\n",
       "      <td>1082.0</td>\n",
       "      <td>1136.0</td>\n",
       "      <td>1441.0</td>\n",
       "      <td>381.0</td>\n",
       "      <td>172.0</td>\n",
       "      <td>329.0</td>\n",
       "      <td>537.0</td>\n",
       "      <td>843.0</td>\n",
       "      <td>127.0</td>\n",
       "      <td>...</td>\n",
       "      <td>0.215787</td>\n",
       "      <td>0.182151</td>\n",
       "      <td>0.311406</td>\n",
       "      <td>0.106198</td>\n",
       "      <td>0.390072</td>\n",
       "      <td>0.262851</td>\n",
       "      <td>0.230707</td>\n",
       "      <td>0.161942</td>\n",
       "      <td>0.331615</td>\n",
       "      <td>1.0</td>\n",
       "    </tr>\n",
       "    <tr>\n",
       "      <th>2</th>\n",
       "      <td>6001400300</td>\n",
       "      <td>2399.0</td>\n",
       "      <td>2460.0</td>\n",
       "      <td>2566.0</td>\n",
       "      <td>346.0</td>\n",
       "      <td>240.0</td>\n",
       "      <td>787.0</td>\n",
       "      <td>1188.0</td>\n",
       "      <td>1779.0</td>\n",
       "      <td>143.0</td>\n",
       "      <td>...</td>\n",
       "      <td>0.139783</td>\n",
       "      <td>0.121585</td>\n",
       "      <td>0.224644</td>\n",
       "      <td>0.098241</td>\n",
       "      <td>0.249111</td>\n",
       "      <td>0.193628</td>\n",
       "      <td>0.152601</td>\n",
       "      <td>0.117094</td>\n",
       "      <td>0.229135</td>\n",
       "      <td>1.0</td>\n",
       "    </tr>\n",
       "    <tr>\n",
       "      <th>3</th>\n",
       "      <td>6001400400</td>\n",
       "      <td>878.0</td>\n",
       "      <td>587.0</td>\n",
       "      <td>850.0</td>\n",
       "      <td>204.0</td>\n",
       "      <td>153.0</td>\n",
       "      <td>177.0</td>\n",
       "      <td>437.0</td>\n",
       "      <td>552.0</td>\n",
       "      <td>37.0</td>\n",
       "      <td>...</td>\n",
       "      <td>0.118941</td>\n",
       "      <td>0.126544</td>\n",
       "      <td>0.187101</td>\n",
       "      <td>0.071419</td>\n",
       "      <td>0.242906</td>\n",
       "      <td>0.179090</td>\n",
       "      <td>0.134555</td>\n",
       "      <td>0.094501</td>\n",
       "      <td>0.219145</td>\n",
       "      <td>1.0</td>\n",
       "    </tr>\n",
       "    <tr>\n",
       "      <th>4</th>\n",
       "      <td>6001400500</td>\n",
       "      <td>395.0</td>\n",
       "      <td>431.0</td>\n",
       "      <td>744.0</td>\n",
       "      <td>102.0</td>\n",
       "      <td>164.0</td>\n",
       "      <td>178.0</td>\n",
       "      <td>247.0</td>\n",
       "      <td>383.0</td>\n",
       "      <td>33.0</td>\n",
       "      <td>...</td>\n",
       "      <td>0.103231</td>\n",
       "      <td>0.050141</td>\n",
       "      <td>0.159271</td>\n",
       "      <td>0.043572</td>\n",
       "      <td>0.166912</td>\n",
       "      <td>0.087009</td>\n",
       "      <td>0.122402</td>\n",
       "      <td>0.074139</td>\n",
       "      <td>0.135273</td>\n",
       "      <td>1.0</td>\n",
       "    </tr>\n",
       "    <tr>\n",
       "      <th>5</th>\n",
       "      <td>6001400600</td>\n",
       "      <td>517.0</td>\n",
       "      <td>320.0</td>\n",
       "      <td>341.0</td>\n",
       "      <td>36.0</td>\n",
       "      <td>38.0</td>\n",
       "      <td>77.0</td>\n",
       "      <td>177.0</td>\n",
       "      <td>428.0</td>\n",
       "      <td>14.0</td>\n",
       "      <td>...</td>\n",
       "      <td>0.038997</td>\n",
       "      <td>0.019241</td>\n",
       "      <td>0.081859</td>\n",
       "      <td>0.027830</td>\n",
       "      <td>0.073355</td>\n",
       "      <td>0.053513</td>\n",
       "      <td>0.047586</td>\n",
       "      <td>0.033671</td>\n",
       "      <td>0.067428</td>\n",
       "      <td>1.0</td>\n",
       "    </tr>\n",
       "    <tr>\n",
       "      <th>6</th>\n",
       "      <td>6001400700</td>\n",
       "      <td>975.0</td>\n",
       "      <td>737.0</td>\n",
       "      <td>1697.0</td>\n",
       "      <td>187.0</td>\n",
       "      <td>170.0</td>\n",
       "      <td>511.0</td>\n",
       "      <td>1004.0</td>\n",
       "      <td>710.0</td>\n",
       "      <td>74.0</td>\n",
       "      <td>...</td>\n",
       "      <td>0.073593</td>\n",
       "      <td>0.032320</td>\n",
       "      <td>0.120059</td>\n",
       "      <td>0.036886</td>\n",
       "      <td>0.115717</td>\n",
       "      <td>0.067998</td>\n",
       "      <td>0.084382</td>\n",
       "      <td>0.069923</td>\n",
       "      <td>0.082457</td>\n",
       "      <td>1.0</td>\n",
       "    </tr>\n",
       "    <tr>\n",
       "      <th>7</th>\n",
       "      <td>6001400800</td>\n",
       "      <td>648.0</td>\n",
       "      <td>383.0</td>\n",
       "      <td>819.0</td>\n",
       "      <td>101.0</td>\n",
       "      <td>62.0</td>\n",
       "      <td>260.0</td>\n",
       "      <td>439.0</td>\n",
       "      <td>522.0</td>\n",
       "      <td>31.0</td>\n",
       "      <td>...</td>\n",
       "      <td>0.077858</td>\n",
       "      <td>0.043229</td>\n",
       "      <td>0.167412</td>\n",
       "      <td>0.044720</td>\n",
       "      <td>0.167412</td>\n",
       "      <td>0.090127</td>\n",
       "      <td>0.120514</td>\n",
       "      <td>0.082330</td>\n",
       "      <td>0.128311</td>\n",
       "      <td>1.0</td>\n",
       "    </tr>\n",
       "    <tr>\n",
       "      <th>8</th>\n",
       "      <td>6001400900</td>\n",
       "      <td>250.0</td>\n",
       "      <td>268.0</td>\n",
       "      <td>384.0</td>\n",
       "      <td>33.0</td>\n",
       "      <td>22.0</td>\n",
       "      <td>124.0</td>\n",
       "      <td>131.0</td>\n",
       "      <td>224.0</td>\n",
       "      <td>21.0</td>\n",
       "      <td>...</td>\n",
       "      <td>0.066141</td>\n",
       "      <td>0.039282</td>\n",
       "      <td>0.111969</td>\n",
       "      <td>0.053550</td>\n",
       "      <td>0.097868</td>\n",
       "      <td>0.056572</td>\n",
       "      <td>0.094679</td>\n",
       "      <td>0.072855</td>\n",
       "      <td>0.078395</td>\n",
       "      <td>1.0</td>\n",
       "    </tr>\n",
       "    <tr>\n",
       "      <th>9</th>\n",
       "      <td>6001401000</td>\n",
       "      <td>1606.0</td>\n",
       "      <td>1307.0</td>\n",
       "      <td>2756.0</td>\n",
       "      <td>345.0</td>\n",
       "      <td>208.0</td>\n",
       "      <td>1075.0</td>\n",
       "      <td>1147.0</td>\n",
       "      <td>1291.0</td>\n",
       "      <td>165.0</td>\n",
       "      <td>...</td>\n",
       "      <td>0.084522</td>\n",
       "      <td>0.039150</td>\n",
       "      <td>0.144478</td>\n",
       "      <td>0.051789</td>\n",
       "      <td>0.131935</td>\n",
       "      <td>0.069484</td>\n",
       "      <td>0.114143</td>\n",
       "      <td>0.092689</td>\n",
       "      <td>0.090939</td>\n",
       "      <td>1.0</td>\n",
       "    </tr>\n",
       "  </tbody>\n",
       "</table>\n",
       "<p>10 rows × 56 columns</p>\n",
       "</div>"
      ],
      "text/plain": [
       "        tract  ct_othertweets_MI_80_120AMI  ct_othertweets_HI_above_120AMI  \\\n",
       "0  6001400100                        933.0                           950.0   \n",
       "1  6001400200                       1082.0                          1136.0   \n",
       "2  6001400300                       2399.0                          2460.0   \n",
       "3  6001400400                        878.0                           587.0   \n",
       "4  6001400500                        395.0                           431.0   \n",
       "5  6001400600                        517.0                           320.0   \n",
       "6  6001400700                        975.0                           737.0   \n",
       "7  6001400800                        648.0                           383.0   \n",
       "8  6001400900                        250.0                           268.0   \n",
       "9  6001401000                       1606.0                          1307.0   \n",
       "\n",
       "   ct_othertweets_LI_under80AMI  ct_othertweets_Advanced Gentrification  \\\n",
       "0                        1061.0                                   128.0   \n",
       "1                        1441.0                                   381.0   \n",
       "2                        2566.0                                   346.0   \n",
       "3                         850.0                                   204.0   \n",
       "4                         744.0                                   102.0   \n",
       "5                         341.0                                    36.0   \n",
       "6                        1697.0                                   187.0   \n",
       "7                         819.0                                   101.0   \n",
       "8                         384.0                                    33.0   \n",
       "9                        2756.0                                   345.0   \n",
       "\n",
       "   ct_othertweets_College Town  \\\n",
       "0                        131.0   \n",
       "1                        172.0   \n",
       "2                        240.0   \n",
       "3                        153.0   \n",
       "4                        164.0   \n",
       "5                         38.0   \n",
       "6                        170.0   \n",
       "7                         62.0   \n",
       "8                         22.0   \n",
       "9                        208.0   \n",
       "\n",
       "   ct_othertweets_LI - At Risk of Gentrification and/or Displacement  \\\n",
       "0                                              227.0                   \n",
       "1                                              329.0                   \n",
       "2                                              787.0                   \n",
       "3                                              177.0                   \n",
       "4                                              178.0                   \n",
       "5                                               77.0                   \n",
       "6                                              511.0                   \n",
       "7                                              260.0                   \n",
       "8                                              124.0                   \n",
       "9                                             1075.0                   \n",
       "\n",
       "   ct_othertweets_LI - Not Losing Low Income Households or Very Early Stages of Gentrification/Displacement   \\\n",
       "0                                              553.0                                                           \n",
       "1                                              537.0                                                           \n",
       "2                                             1188.0                                                           \n",
       "3                                              437.0                                                           \n",
       "4                                              247.0                                                           \n",
       "5                                              177.0                                                           \n",
       "6                                             1004.0                                                           \n",
       "7                                              439.0                                                           \n",
       "8                                              131.0                                                           \n",
       "9                                             1147.0                                                           \n",
       "\n",
       "   ct_othertweets_LI - Ongoing Gentrification  \\\n",
       "0                                       600.0   \n",
       "1                                       843.0   \n",
       "2                                      1779.0   \n",
       "3                                       552.0   \n",
       "4                                       383.0   \n",
       "5                                       428.0   \n",
       "6                                       710.0   \n",
       "7                                       522.0   \n",
       "8                                       224.0   \n",
       "9                                      1291.0   \n",
       "\n",
       "   ct_othertweets_LI - Undergoing Displacement      ...       \\\n",
       "0                                         89.0      ...        \n",
       "1                                        127.0      ...        \n",
       "2                                        143.0      ...        \n",
       "3                                         37.0      ...        \n",
       "4                                         33.0      ...        \n",
       "5                                         14.0      ...        \n",
       "6                                         74.0      ...        \n",
       "7                                         31.0      ...        \n",
       "8                                         21.0      ...        \n",
       "9                                        165.0      ...        \n",
       "\n",
       "   %__othertweets_aboverm_per_asian15  %__othertweets_underm_per_nhblk15  \\\n",
       "0                            0.173234                           0.171450   \n",
       "1                            0.215787                           0.182151   \n",
       "2                            0.139783                           0.121585   \n",
       "3                            0.118941                           0.126544   \n",
       "4                            0.103231                           0.050141   \n",
       "5                            0.038997                           0.019241   \n",
       "6                            0.073593                           0.032320   \n",
       "7                            0.077858                           0.043229   \n",
       "8                            0.066141                           0.039282   \n",
       "9                            0.084522                           0.039150   \n",
       "\n",
       "   %__othertweets_aboverm_per_nhblk15  %__othertweets_underm_empd14  \\\n",
       "0                            0.261859                      0.159554   \n",
       "1                            0.311406                      0.106198   \n",
       "2                            0.224644                      0.098241   \n",
       "3                            0.187101                      0.071419   \n",
       "4                            0.159271                      0.043572   \n",
       "5                            0.081859                      0.027830   \n",
       "6                            0.120059                      0.036886   \n",
       "7                            0.167412                      0.044720   \n",
       "8                            0.111969                      0.053550   \n",
       "9                            0.144478                      0.051789   \n",
       "\n",
       "   %__othertweets_aboverm_empd14  %__othertweets_underm_per_nonwhite15  \\\n",
       "0                       0.278216                              0.237026   \n",
       "1                       0.390072                              0.262851   \n",
       "2                       0.249111                              0.193628   \n",
       "3                       0.242906                              0.179090   \n",
       "4                       0.166912                              0.087009   \n",
       "5                       0.073355                              0.053513   \n",
       "6                       0.115717                              0.067998   \n",
       "7                       0.167412                              0.090127   \n",
       "8                       0.097868                              0.056572   \n",
       "9                       0.131935                              0.069484   \n",
       "\n",
       "   %__othertweets_aboverm_per_nonwhite15  %__othertweets_underm_per_col15  \\\n",
       "0                               0.196283                         0.175167   \n",
       "1                               0.230707                         0.161942   \n",
       "2                               0.152601                         0.117094   \n",
       "3                               0.134555                         0.094501   \n",
       "4                               0.122402                         0.074139   \n",
       "5                               0.047586                         0.033671   \n",
       "6                               0.084382                         0.069923   \n",
       "7                               0.120514                         0.082330   \n",
       "8                               0.094679                         0.072855   \n",
       "9                               0.114143                         0.092689   \n",
       "\n",
       "   %__othertweets_aboverm_per_col15  %_tal tweets  \n",
       "0                          0.258141           1.0  \n",
       "1                          0.331615           1.0  \n",
       "2                          0.229135           1.0  \n",
       "3                          0.219145           1.0  \n",
       "4                          0.135273           1.0  \n",
       "5                          0.067428           1.0  \n",
       "6                          0.082457           1.0  \n",
       "7                          0.128311           1.0  \n",
       "8                          0.078395           1.0  \n",
       "9                          0.090939           1.0  \n",
       "\n",
       "[10 rows x 56 columns]"
      ]
     },
     "execution_count": 21,
     "metadata": {},
     "output_type": "execute_result"
    }
   ],
   "source": [
    "twitter_demo_sf.head(10)"
   ]
  },
  {
   "cell_type": "code",
   "execution_count": 18,
   "metadata": {},
   "outputs": [],
   "source": [
    "twitter_demo_sf.to_csv('Twitter_BayArea_w_demo_var_10_21.csv')"
   ]
  },
  {
   "cell_type": "code",
   "execution_count": null,
   "metadata": {},
   "outputs": [],
   "source": []
  }
 ],
 "metadata": {
  "anaconda-cloud": {},
  "kernelspec": {
   "display_name": "Python 3",
   "language": "python",
   "name": "python3"
  },
  "language_info": {
   "codemirror_mode": {
    "name": "ipython",
    "version": 3
   },
   "file_extension": ".py",
   "mimetype": "text/x-python",
   "name": "python",
   "nbconvert_exporter": "python",
   "pygments_lexer": "ipython3",
   "version": "3.5.5"
  }
 },
 "nbformat": 4,
 "nbformat_minor": 2
}
